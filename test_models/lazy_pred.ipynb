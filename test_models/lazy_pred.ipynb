{
 "cells": [
  {
   "cell_type": "code",
   "execution_count": 1,
   "metadata": {},
   "outputs": [],
   "source": [
    "import numpy as np\n",
    "import pandas as pd\n",
    "from sklearn.ensemble import RandomForestRegressor\n",
    "from sklearn.metrics import mean_squared_error, mean_absolute_error, r2_score\n",
    "from sklearn.preprocessing import LabelEncoder, OneHotEncoder, MinMaxScaler\n",
    "from sklearn.model_selection import train_test_split\n",
    "from sklearn.decomposition import PCA\n",
    "from rdkit import Chem\n",
    "from rdkit.Chem import AllChem, Descriptors\n",
    "import os\n",
    "os.chdir(\"..\")\n",
    "os.chdir(\"Preprocessing\")\n",
    "from preprocessing import *\n",
    "import selfies as sf\n",
    "\n",
    "#Ensemble learning and random forest\n",
    "\n",
    "df = preprocessing(r'C:\\Users\\Gilbert\\Documents\\BCB_Research\\Kcat_Benchmark_ML_Models\\Data\\kcat_transferase.csv')\n",
    "# encoded_df = pd.read_csv(\"C:\\\\Users\\Gilbert\\Documents\\BCB_Research\\Kcat_Benchmark_ML_Models\\Data\\encoded_amino.csv\")"
   ]
  },
  {
   "cell_type": "code",
   "execution_count": 2,
   "metadata": {},
   "outputs": [],
   "source": [
    "# Assuming encoded_df is your one-hot encoded data from before\n",
    "amino_pca = PCA(n_components=433)\n",
    "principal_components = amino_pca.fit_transform(encoded_df)\n",
    "\n",
    "# Convert to DataFrame for convenience\n",
    "amino_pca_df = pd.DataFrame(data=principal_components)"
   ]
  },
  {
   "cell_type": "code",
   "execution_count": 5,
   "metadata": {},
   "outputs": [],
   "source": [
    "ProTbert = pd.read_csv(\"C:\\\\Users\\Gilbert\\Documents\\BCB_Research\\Kcat_Benchmark_ML_Models\\Data\\ProTbert_embed_top_features.csv\")"
   ]
  },
  {
   "cell_type": "code",
   "execution_count": 8,
   "metadata": {},
   "outputs": [
    {
     "name": "stderr",
     "output_type": "stream",
     "text": [
      "  0%|          | 0/42 [00:00<?, ?it/s]"
     ]
    },
    {
     "name": "stderr",
     "output_type": "stream",
     "text": [
      "100%|██████████| 42/42 [00:10<00:00,  3.94it/s]"
     ]
    },
    {
     "name": "stdout",
     "output_type": "stream",
     "text": [
      "[LightGBM] [Info] Auto-choosing row-wise multi-threading, the overhead of testing was 0.000539 seconds.\n",
      "You can set `force_row_wise=true` to remove the overhead.\n",
      "And if memory is not enough, you can set `force_col_wise=true`.\n",
      "[LightGBM] [Info] Total Bins 255\n",
      "[LightGBM] [Info] Number of data points in the train set: 3308, number of used features: 1\n",
      "[LightGBM] [Info] Start training from score 0.199016\n"
     ]
    },
    {
     "name": "stderr",
     "output_type": "stream",
     "text": [
      "\n"
     ]
    }
   ],
   "source": [
    "from lazypredict.Supervised import LazyRegressor\n",
    "\n",
    "X = ProTbert\n",
    "y = np.log10(df[\"Kcat\"])\n",
    "\n",
    "X_train, X_test, y_train, y_test = train_test_split(X, y, test_size=0.2, random_state=1)\n",
    "\n",
    "reg = LazyRegressor(verbose=0, ignore_warnings=True, custom_metric=None)\n",
    "models, predictions = reg.fit(X_train, X_test, y_train, y_test)"
   ]
  },
  {
   "cell_type": "code",
   "execution_count": 9,
   "metadata": {},
   "outputs": [
    {
     "name": "stdout",
     "output_type": "stream",
     "text": [
      "                               Adjusted R-Squared  R-Squared  RMSE  Time Taken\n",
      "Model                                                                         \n",
      "KNeighborsRegressor                          1.00       1.00  0.02        0.02\n",
      "ExtraTreesRegressor                          1.00       1.00  0.03        0.52\n",
      "ExtraTreeRegressor                           1.00       1.00  0.04        0.02\n",
      "XGBRegressor                                 1.00       1.00  0.05        0.08\n",
      "LGBMRegressor                                1.00       1.00  0.05        0.12\n",
      "HistGradientBoostingRegressor                1.00       1.00  0.05        0.57\n",
      "RandomForestRegressor                        1.00       1.00  0.10        0.99\n",
      "BaggingRegressor                             1.00       1.00  0.10        0.10\n",
      "DecisionTreeRegressor                        1.00       1.00  0.10        0.03\n",
      "GradientBoostingRegressor                    1.00       1.00  0.10        0.42\n",
      "AdaBoostRegressor                            0.98       0.98  0.24        0.08\n",
      "MLPRegressor                                 0.62       0.63  0.96        1.97\n",
      "NuSVR                                        0.41       0.42  1.20        1.25\n",
      "SVR                                          0.39       0.40  1.22        1.28\n",
      "TransformedTargetRegressor                   0.04       0.05  1.53        0.02\n",
      "LinearRegression                             0.04       0.05  1.53        0.01\n",
      "LassoLarsIC                                  0.04       0.05  1.53        0.01\n",
      "OrthogonalMatchingPursuitCV                  0.04       0.05  1.53        0.02\n",
      "OrthogonalMatchingPursuit                    0.04       0.05  1.53        0.01\n",
      "Lars                                         0.04       0.05  1.53        0.02\n",
      "Ridge                                        0.04       0.05  1.53        0.01\n",
      "RidgeCV                                      0.04       0.05  1.53        0.02\n",
      "BayesianRidge                                0.04       0.05  1.53        0.01\n",
      "TweedieRegressor                             0.02       0.03  1.54        0.06\n",
      "KernelRidge                                  0.02       0.03  1.54        0.70\n",
      "ElasticNetCV                                 0.01       0.03  1.55        0.16\n",
      "LassoCV                                      0.01       0.02  1.55        0.12\n",
      "LarsCV                                       0.00       0.02  1.55        0.02\n",
      "LassoLarsCV                                  0.00       0.02  1.55        0.01\n",
      "DummyRegressor                              -0.01      -0.00  1.57        0.01\n",
      "LassoLars                                   -0.01      -0.00  1.57        0.01\n",
      "ElasticNet                                  -0.01      -0.00  1.57        0.02\n",
      "Lasso                                       -0.01      -0.00  1.57        0.01\n",
      "HuberRegressor                              -0.33      -0.31  1.80        0.02\n",
      "LinearSVR                                   -0.42      -0.40  1.85        0.02\n",
      "SGDRegressor                                -0.49      -0.47  1.90        0.02\n",
      "PassiveAggressiveRegressor                  -4.15      -4.08  3.54        0.01\n",
      "GaussianProcessRegressor                  -289.84    -285.97 26.57        1.69\n",
      "RANSACRegressor                           -810.08    -799.29 44.37        0.13\n"
     ]
    }
   ],
   "source": [
    "print(models)"
   ]
  }
 ],
 "metadata": {
  "kernelspec": {
   "display_name": "bcb_2",
   "language": "python",
   "name": "python3"
  },
  "language_info": {
   "codemirror_mode": {
    "name": "ipython",
    "version": 3
   },
   "file_extension": ".py",
   "mimetype": "text/x-python",
   "name": "python",
   "nbconvert_exporter": "python",
   "pygments_lexer": "ipython3",
   "version": "3.11.5"
  }
 },
 "nbformat": 4,
 "nbformat_minor": 2
}
