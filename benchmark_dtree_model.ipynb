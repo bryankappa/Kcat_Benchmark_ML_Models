{
 "cells": [
  {
   "cell_type": "code",
   "execution_count": 11,
   "metadata": {},
   "outputs": [],
   "source": [
    "import numpy as np\n",
    "import pandas as pd\n",
    "from sklearn.ensemble import RandomForestRegressor\n",
    "from sklearn.metrics import mean_squared_error, mean_absolute_error, r2_score\n",
    "from sklearn.preprocessing import LabelEncoder, OneHotEncoder, MinMaxScaler\n",
    "from sklearn.model_selection import train_test_split\n",
    "from preprocessing import preprocessing\n",
    "from rdkit import Chem\n",
    "from rdkit.Chem import AllChem, RDKFingerprint\n",
    "\n",
    "\n",
    "#Ensemble learning and random forest\n",
    "\n",
    "df = preprocessing(\"C:\\\\Users\\Gilbert\\Documents\\BCB_Research\\Kcat_Benchmark_ML_Models\\kcat_transferase.csv\")"
   ]
  },
  {
   "cell_type": "code",
   "execution_count": 12,
   "metadata": {},
   "outputs": [],
   "source": [
    "d = df.copy()\n",
    "\n",
    "d.head()\n",
    "\n",
    "data = d"
   ]
  },
  {
   "cell_type": "code",
   "execution_count": 13,
   "metadata": {},
   "outputs": [
    {
     "name": "stdout",
     "output_type": "stream",
     "text": [
      "3163    78300.00000\n",
      "3851    32000.00000\n",
      "2141    14000.00000\n",
      "2142    14000.00000\n",
      "2252    14000.00000\n",
      "662      8050.00000\n",
      "810      7000.00000\n",
      "4061     6666.66667\n",
      "2748     6600.00000\n",
      "937      6004.00000\n",
      "3327     6000.00000\n",
      "936      5694.00000\n",
      "1187     5460.00000\n",
      "929      5252.00000\n",
      "925      5190.00000\n",
      "1160     5086.00000\n",
      "951      4500.00000\n",
      "935      4412.00000\n",
      "1181     4080.00000\n",
      "811      4000.00000\n",
      "934      3980.00000\n",
      "3266     3869.00000\n",
      "933      3595.00000\n",
      "491      3580.00000\n",
      "494      3580.00000\n",
      "931      3453.00000\n",
      "492      3450.00000\n",
      "930      3324.00000\n",
      "928      3217.00000\n",
      "2992     3204.00000\n",
      "Name: Kcat, dtype: float64\n"
     ]
    }
   ],
   "source": [
    "# Replace '5' with the number of largest values you want to view\n",
    "top_n = 30\n",
    "\n",
    "# Use n largest values in 'Kcat' column\n",
    "largest_kcat_values = data.nlargest(top_n, \"Kcat\")[\"Kcat\"]\n",
    "\n",
    "print(largest_kcat_values)"
   ]
  },
  {
   "cell_type": "code",
   "execution_count": 14,
   "metadata": {},
   "outputs": [
    {
     "name": "stderr",
     "output_type": "stream",
     "text": [
      "[16:11:50] WARNING: not removing hydrogen atom without neighbors\n",
      "[16:11:50] WARNING: not removing hydrogen atom without neighbors\n"
     ]
    }
   ],
   "source": [
    "#preprocessing\n",
    "#lets encode the data using label encoder \n",
    "label_encoder = LabelEncoder()\n",
    "data[\"EC_number\"] = label_encoder.fit_transform(data[\"EC_number\"])\n",
    "data[\"Species\"] = label_encoder.fit_transform(data[\"Species\"])\n",
    "\n",
    "amino_acids = 'ACDEFGHIKLMNPQRSTVWY'\n",
    "amino_to_index = {amino: i for i, amino in enumerate(amino_acids)}\n",
    "\n",
    "# Convert amino acid sequences to one-hot encoding\n",
    "def convert_to_one_hot(sequence):\n",
    "    one_hot_sequence = np.zeros((len(sequence), len(amino_acids)))\n",
    "    \n",
    "    for i, amino in enumerate(sequence):\n",
    "        if amino in amino_to_index:\n",
    "            index = amino_to_index[amino]\n",
    "            one_hot_sequence[i, index] = 1\n",
    "            \n",
    "    return one_hot_sequence.flatten()\n",
    "\n",
    "# Apply the conversion to the DataFrame column\n",
    "data[\"Amino\"] = data[\"Amino_encoding\"].apply(convert_to_one_hot).tolist()\n",
    "\n",
    "# convert compound name into numbers.\n",
    "compound = data[\"Compound\"]\n",
    "\n",
    "data[\"smiles\"] = [Chem.MolFromSmiles(smiles) for smiles in compound]\n",
    "\n",
    "mol = data[\"smiles\"]\n",
    "\n",
    "data[\"Fingerprint_rdk\"] = [RDKFingerprint(i) for i in mol]\n",
    "\n",
    "# Apply logarithmic transformation to 'Kcat'\n",
    "data[\"Kcat\"] = np.log1p(data[\"Kcat\"])  # Applying log(x + 1) to handle zeros\n",
    "\n",
    "# Normalize the target variable using Min-Max scaling\n",
    "scaler = MinMaxScaler()\n",
    "data[\"Kcat_normalized\"] = scaler.fit_transform(data[[\"Kcat\"]])\n"
   ]
  },
  {
   "cell_type": "code",
   "execution_count": 5,
   "metadata": {},
   "outputs": [],
   "source": [
    "# data.drop(columns=[\"Kcat\", \"Compound_name\", \"Compound\", \"smiles\", \"Amino_encoding\", \"unit\", \"Amino\"], inplace=True)"
   ]
  },
  {
   "cell_type": "code",
   "execution_count": 15,
   "metadata": {},
   "outputs": [
    {
     "data": {
      "text/html": [
       "<div>\n",
       "<style scoped>\n",
       "    .dataframe tbody tr th:only-of-type {\n",
       "        vertical-align: middle;\n",
       "    }\n",
       "\n",
       "    .dataframe tbody tr th {\n",
       "        vertical-align: top;\n",
       "    }\n",
       "\n",
       "    .dataframe thead th {\n",
       "        text-align: right;\n",
       "    }\n",
       "</style>\n",
       "<table border=\"1\" class=\"dataframe\">\n",
       "  <thead>\n",
       "    <tr style=\"text-align: right;\">\n",
       "      <th></th>\n",
       "      <th>EC_number</th>\n",
       "      <th>Species</th>\n",
       "      <th>Compound</th>\n",
       "      <th>Compound_name</th>\n",
       "      <th>Amino_encoding</th>\n",
       "      <th>Kcat</th>\n",
       "      <th>unit</th>\n",
       "      <th>Amino</th>\n",
       "      <th>smiles</th>\n",
       "      <th>Fingerprint_rdk</th>\n",
       "      <th>Kcat_normalized</th>\n",
       "    </tr>\n",
       "  </thead>\n",
       "  <tbody>\n",
       "    <tr>\n",
       "      <th>0</th>\n",
       "      <td>0</td>\n",
       "      <td>99</td>\n",
       "      <td>C1=CC(=CN=C1)C(=O)N</td>\n",
       "      <td>Nicotinamide</td>\n",
       "      <td>MESGFTSKDTYLSHFNPRDFLEKYYKFGSRHSAESQILKHLLKNLF...</td>\n",
       "      <td>0.040182</td>\n",
       "      <td>s^(-1)</td>\n",
       "      <td>[0.0, 0.0, 0.0, 0.0, 0.0, 0.0, 0.0, 0.0, 0.0, ...</td>\n",
       "      <td>&lt;rdkit.Chem.rdchem.Mol object at 0x000001F12D2...</td>\n",
       "      <td>[1, 1, 0, 0, 0, 1, 0, 0, 0, 0, 1, 1, 0, 0, 0, ...</td>\n",
       "      <td>0.003566</td>\n",
       "    </tr>\n",
       "    <tr>\n",
       "      <th>1</th>\n",
       "      <td>0</td>\n",
       "      <td>99</td>\n",
       "      <td>C1=CC(=CN=C1)C(=O)N</td>\n",
       "      <td>Nicotinamide</td>\n",
       "      <td>MESGFTSKDTYLSHFNPRDYLEKYYKFGSRHSAESQILKHLLKNLF...</td>\n",
       "      <td>0.703098</td>\n",
       "      <td>s^(-1)</td>\n",
       "      <td>[0.0, 0.0, 0.0, 0.0, 0.0, 0.0, 0.0, 0.0, 0.0, ...</td>\n",
       "      <td>&lt;rdkit.Chem.rdchem.Mol object at 0x000001F12D2...</td>\n",
       "      <td>[1, 1, 0, 0, 0, 1, 0, 0, 0, 0, 1, 1, 0, 0, 0, ...</td>\n",
       "      <td>0.062396</td>\n",
       "    </tr>\n",
       "    <tr>\n",
       "      <th>2</th>\n",
       "      <td>0</td>\n",
       "      <td>99</td>\n",
       "      <td>C1=CC(=CN=C1)C(=O)N</td>\n",
       "      <td>Nicotinamide</td>\n",
       "      <td>MESGFTSKDTYLSHFNPRDYLEKYYKFGSRHSAESQILKHLLKNLF...</td>\n",
       "      <td>0.079735</td>\n",
       "      <td>s^(-1)</td>\n",
       "      <td>[0.0, 0.0, 0.0, 0.0, 0.0, 0.0, 0.0, 0.0, 0.0, ...</td>\n",
       "      <td>&lt;rdkit.Chem.rdchem.Mol object at 0x000001F12D2...</td>\n",
       "      <td>[1, 1, 0, 0, 0, 1, 0, 0, 0, 0, 1, 1, 0, 0, 0, ...</td>\n",
       "      <td>0.007076</td>\n",
       "    </tr>\n",
       "    <tr>\n",
       "      <th>3</th>\n",
       "      <td>1</td>\n",
       "      <td>39</td>\n",
       "      <td>C(CS)C(C(=O)O)N</td>\n",
       "      <td>L-Homocysteine</td>\n",
       "      <td>MGLEKKSALLEDLIEKCGGCAVVDGGFATQLEIHGAAINDPLWSAV...</td>\n",
       "      <td>0.036814</td>\n",
       "      <td>s^(-1)</td>\n",
       "      <td>[0.0, 0.0, 0.0, 0.0, 0.0, 0.0, 0.0, 0.0, 0.0, ...</td>\n",
       "      <td>&lt;rdkit.Chem.rdchem.Mol object at 0x000001F12D2...</td>\n",
       "      <td>[0, 0, 0, 0, 0, 0, 0, 0, 0, 0, 0, 1, 0, 0, 0, ...</td>\n",
       "      <td>0.003267</td>\n",
       "    </tr>\n",
       "    <tr>\n",
       "      <th>4</th>\n",
       "      <td>1</td>\n",
       "      <td>81</td>\n",
       "      <td>C(CS)C(C(=O)O)N</td>\n",
       "      <td>L-Homocysteine</td>\n",
       "      <td>MSQNNPLRALLDKQDILLLDGAMATELEARGCNLADSLWSAKVLVE...</td>\n",
       "      <td>0.322083</td>\n",
       "      <td>s^(-1)</td>\n",
       "      <td>[0.0, 0.0, 0.0, 0.0, 0.0, 0.0, 0.0, 0.0, 0.0, ...</td>\n",
       "      <td>&lt;rdkit.Chem.rdchem.Mol object at 0x000001F12D2...</td>\n",
       "      <td>[0, 0, 0, 0, 0, 0, 0, 0, 0, 0, 0, 1, 0, 0, 0, ...</td>\n",
       "      <td>0.028583</td>\n",
       "    </tr>\n",
       "  </tbody>\n",
       "</table>\n",
       "</div>"
      ],
      "text/plain": [
       "   EC_number  Species             Compound   Compound_name  \\\n",
       "0          0       99  C1=CC(=CN=C1)C(=O)N    Nicotinamide   \n",
       "1          0       99  C1=CC(=CN=C1)C(=O)N    Nicotinamide   \n",
       "2          0       99  C1=CC(=CN=C1)C(=O)N    Nicotinamide   \n",
       "3          1       39      C(CS)C(C(=O)O)N  L-Homocysteine   \n",
       "4          1       81      C(CS)C(C(=O)O)N  L-Homocysteine   \n",
       "\n",
       "                                      Amino_encoding      Kcat    unit  \\\n",
       "0  MESGFTSKDTYLSHFNPRDFLEKYYKFGSRHSAESQILKHLLKNLF...  0.040182  s^(-1)   \n",
       "1  MESGFTSKDTYLSHFNPRDYLEKYYKFGSRHSAESQILKHLLKNLF...  0.703098  s^(-1)   \n",
       "2  MESGFTSKDTYLSHFNPRDYLEKYYKFGSRHSAESQILKHLLKNLF...  0.079735  s^(-1)   \n",
       "3  MGLEKKSALLEDLIEKCGGCAVVDGGFATQLEIHGAAINDPLWSAV...  0.036814  s^(-1)   \n",
       "4  MSQNNPLRALLDKQDILLLDGAMATELEARGCNLADSLWSAKVLVE...  0.322083  s^(-1)   \n",
       "\n",
       "                                               Amino  \\\n",
       "0  [0.0, 0.0, 0.0, 0.0, 0.0, 0.0, 0.0, 0.0, 0.0, ...   \n",
       "1  [0.0, 0.0, 0.0, 0.0, 0.0, 0.0, 0.0, 0.0, 0.0, ...   \n",
       "2  [0.0, 0.0, 0.0, 0.0, 0.0, 0.0, 0.0, 0.0, 0.0, ...   \n",
       "3  [0.0, 0.0, 0.0, 0.0, 0.0, 0.0, 0.0, 0.0, 0.0, ...   \n",
       "4  [0.0, 0.0, 0.0, 0.0, 0.0, 0.0, 0.0, 0.0, 0.0, ...   \n",
       "\n",
       "                                              smiles  \\\n",
       "0  <rdkit.Chem.rdchem.Mol object at 0x000001F12D2...   \n",
       "1  <rdkit.Chem.rdchem.Mol object at 0x000001F12D2...   \n",
       "2  <rdkit.Chem.rdchem.Mol object at 0x000001F12D2...   \n",
       "3  <rdkit.Chem.rdchem.Mol object at 0x000001F12D2...   \n",
       "4  <rdkit.Chem.rdchem.Mol object at 0x000001F12D2...   \n",
       "\n",
       "                                     Fingerprint_rdk  Kcat_normalized  \n",
       "0  [1, 1, 0, 0, 0, 1, 0, 0, 0, 0, 1, 1, 0, 0, 0, ...         0.003566  \n",
       "1  [1, 1, 0, 0, 0, 1, 0, 0, 0, 0, 1, 1, 0, 0, 0, ...         0.062396  \n",
       "2  [1, 1, 0, 0, 0, 1, 0, 0, 0, 0, 1, 1, 0, 0, 0, ...         0.007076  \n",
       "3  [0, 0, 0, 0, 0, 0, 0, 0, 0, 0, 0, 1, 0, 0, 0, ...         0.003267  \n",
       "4  [0, 0, 0, 0, 0, 0, 0, 0, 0, 0, 0, 1, 0, 0, 0, ...         0.028583  "
      ]
     },
     "execution_count": 15,
     "metadata": {},
     "output_type": "execute_result"
    }
   ],
   "source": [
    "data.head()"
   ]
  },
  {
   "cell_type": "code",
   "execution_count": 16,
   "metadata": {},
   "outputs": [],
   "source": [
    "# train and split the data\n",
    "# EC_number, Species, Amino, and fingerprint_rdk\n",
    "\n",
    "from sklearn.model_selection import train_test_split\n",
    "\n",
    "# x_fingerprint = np.array(data['Fingerprint_rdk'].tolist())\n",
    "\n",
    "# x = x_fingerprint\n",
    "# # target variable\n",
    "# y = data[\"Kcat\"]\n",
    "\n",
    "\n",
    "y = np.array(data[\"Kcat_normalized\"])\n",
    "x = np.array(data[\"Fingerprint_rdk\"].tolist())\n",
    "\n",
    "\n",
    "# Ensure alignment of data\n",
    "consistent_indices = np.arange(len(x))  # Assuming fingerprint and 'Kcat' data have the same length\n",
    "x = x[consistent_indices]\n",
    "y = y[consistent_indices]\n",
    "\n",
    "\n",
    "x_train, x_test, y_train, y_test = train_test_split(x, y, test_size=0.2, random_state=42)"
   ]
  },
  {
   "cell_type": "code",
   "execution_count": null,
   "metadata": {},
   "outputs": [],
   "source": []
  },
  {
   "cell_type": "code",
   "execution_count": 17,
   "metadata": {},
   "outputs": [
    {
     "name": "stdout",
     "output_type": "stream",
     "text": [
      "x_train shape: (3308, 2048)\n",
      "y_train shape: (3308,)\n",
      "x_train data type: <class 'numpy.ndarray'>\n",
      "y_train data type: <class 'numpy.ndarray'>\n"
     ]
    }
   ],
   "source": [
    "print(\"x_train shape:\", x_train.shape)\n",
    "print(\"y_train shape:\", y_train.shape)\n",
    "\n",
    "# Check data types\n",
    "print(\"x_train data type:\", type(x_train))\n",
    "print(\"y_train data type:\", type(y_train))\n",
    "\n"
   ]
  },
  {
   "cell_type": "code",
   "execution_count": 9,
   "metadata": {},
   "outputs": [],
   "source": [
    "# this initialization of the regression model\n",
    "rf_regressor = RandomForestRegressor(n_estimators=125, max_depth=5, random_state=42)\n",
    "\n",
    "rf_regressor.fit(x_train, y_train)\n",
    "\n",
    "y_pred = rf_regressor.predict(x_test)"
   ]
  },
  {
   "cell_type": "code",
   "execution_count": 18,
   "metadata": {},
   "outputs": [
    {
     "data": {
      "text/plain": [
       "[<matplotlib.lines.Line2D at 0x1f12d630190>]"
      ]
     },
     "execution_count": 18,
     "metadata": {},
     "output_type": "execute_result"
    },
    {
     "data": {
      "image/png": "[encoded data removed]",
      "text/plain": [
       "<Figure size 640x480 with 1 Axes>"
      ]
     },
     "metadata": {},
     "output_type": "display_data"
    }
   ],
   "source": [
    "import matplotlib.pyplot as plt\n",
    "\n",
    "estimators = np.arange(10, 200, 10)\n",
    "scores = []\n",
    "for n in estimators:\n",
    "    rf_regressor.set_params(n_estimators=n)\n",
    "    rf_regressor.fit(x_train, y_train)\n",
    "    scores.append(rf_regressor.score(x_test, y_test))\n",
    "plt.title(\"Effect of n_estimators\")\n",
    "plt.xlabel(\"n_estimator\")\n",
    "plt.ylabel(\"score\")\n",
    "plt.plot(estimators, scores)"
   ]
  },
  {
   "cell_type": "code",
   "execution_count": 20,
   "metadata": {},
   "outputs": [
    {
     "name": "stderr",
     "output_type": "stream",
     "text": [
      "c:\\Users\\Gilbert\\anaconda3\\envs\\bcb\\Lib\\site-packages\\sklearn\\model_selection\\_search.py:307: UserWarning: The total space of parameters 9 is smaller than n_iter=10. Running 9 iterations. For exhaustive searches, use GridSearchCV.\n",
      "  warnings.warn(\n"
     ]
    }
   ],
   "source": [
    "from sklearn.model_selection import RandomizedSearchCV\n",
    "\n",
    "param_grid = {\n",
    "    'n_estimators': [50, 100, 150],\n",
    "    'max_depth': [5, 10, 15],\n",
    "    # Add more hyperparameters to search\n",
    "}\n",
    "\n",
    "rf_regressor = RandomForestRegressor(random_state=42)\n",
    "random_search = RandomizedSearchCV(rf_regressor, param_distributions=param_grid, n_iter=10, cv=3, random_state=42)\n",
    "random_search.fit(x_train, y_train)\n",
    "\n",
    "best_rf_regressor = random_search.best_estimator_"
   ]
  },
  {
   "cell_type": "code",
   "execution_count": 21,
   "metadata": {},
   "outputs": [
    {
     "name": "stdout",
     "output_type": "stream",
     "text": [
      "RandomForestRegressor(max_depth=5, n_estimators=150, random_state=42)\n"
     ]
    }
   ],
   "source": [
    "print(best_rf_regressor)"
   ]
  },
  {
   "cell_type": "code",
   "execution_count": 10,
   "metadata": {},
   "outputs": [
    {
     "name": "stdout",
     "output_type": "stream",
     "text": [
      "MAE:  0.12863720724146158\n",
      "MSE:  0.026185300532911678\n"
     ]
    }
   ],
   "source": [
    "from sklearn.metrics import mean_absolute_error, mean_squared_error\n",
    "\n",
    "\n",
    "print('MAE: ', mean_absolute_error(y_test, y_pred))\n",
    "print('MSE: ', mean_squared_error(y_test, y_pred)) \n"
   ]
  },
  {
   "cell_type": "code",
   "execution_count": 19,
   "metadata": {},
   "outputs": [
    {
     "data": {
      "text/html": [
       "<div>\n",
       "<style scoped>\n",
       "    .dataframe tbody tr th:only-of-type {\n",
       "        vertical-align: middle;\n",
       "    }\n",
       "\n",
       "    .dataframe tbody tr th {\n",
       "        vertical-align: top;\n",
       "    }\n",
       "\n",
       "    .dataframe thead th {\n",
       "        text-align: right;\n",
       "    }\n",
       "</style>\n",
       "<table border=\"1\" class=\"dataframe\">\n",
       "  <thead>\n",
       "    <tr style=\"text-align: right;\">\n",
       "      <th></th>\n",
       "      <th>EC_number</th>\n",
       "      <th>Species</th>\n",
       "      <th>Kcat</th>\n",
       "      <th>Kcat_normalized</th>\n",
       "    </tr>\n",
       "  </thead>\n",
       "  <tbody>\n",
       "    <tr>\n",
       "      <th>count</th>\n",
       "      <td>4136.000000</td>\n",
       "      <td>4136.000000</td>\n",
       "      <td>4136.000000</td>\n",
       "      <td>4136.000000</td>\n",
       "    </tr>\n",
       "    <tr>\n",
       "      <th>mean</th>\n",
       "      <td>237.390957</td>\n",
       "      <td>121.036267</td>\n",
       "      <td>1.872588</td>\n",
       "      <td>0.166182</td>\n",
       "    </tr>\n",
       "    <tr>\n",
       "      <th>std</th>\n",
       "      <td>117.585124</td>\n",
       "      <td>67.214484</td>\n",
       "      <td>2.047284</td>\n",
       "      <td>0.181685</td>\n",
       "    </tr>\n",
       "    <tr>\n",
       "      <th>min</th>\n",
       "      <td>0.000000</td>\n",
       "      <td>0.000000</td>\n",
       "      <td>0.000003</td>\n",
       "      <td>0.000000</td>\n",
       "    </tr>\n",
       "    <tr>\n",
       "      <th>25%</th>\n",
       "      <td>139.000000</td>\n",
       "      <td>81.000000</td>\n",
       "      <td>0.131028</td>\n",
       "      <td>0.011628</td>\n",
       "    </tr>\n",
       "    <tr>\n",
       "      <th>50%</th>\n",
       "      <td>238.000000</td>\n",
       "      <td>106.000000</td>\n",
       "      <td>1.100276</td>\n",
       "      <td>0.097643</td>\n",
       "    </tr>\n",
       "    <tr>\n",
       "      <th>75%</th>\n",
       "      <td>350.000000</td>\n",
       "      <td>180.000000</td>\n",
       "      <td>3.165475</td>\n",
       "      <td>0.280918</td>\n",
       "    </tr>\n",
       "    <tr>\n",
       "      <th>max</th>\n",
       "      <td>437.000000</td>\n",
       "      <td>265.000000</td>\n",
       "      <td>11.268316</td>\n",
       "      <td>1.000000</td>\n",
       "    </tr>\n",
       "  </tbody>\n",
       "</table>\n",
       "</div>"
      ],
      "text/plain": [
       "         EC_number      Species         Kcat  Kcat_normalized\n",
       "count  4136.000000  4136.000000  4136.000000      4136.000000\n",
       "mean    237.390957   121.036267     1.872588         0.166182\n",
       "std     117.585124    67.214484     2.047284         0.181685\n",
       "min       0.000000     0.000000     0.000003         0.000000\n",
       "25%     139.000000    81.000000     0.131028         0.011628\n",
       "50%     238.000000   106.000000     1.100276         0.097643\n",
       "75%     350.000000   180.000000     3.165475         0.280918\n",
       "max     437.000000   265.000000    11.268316         1.000000"
      ]
     },
     "execution_count": 19,
     "metadata": {},
     "output_type": "execute_result"
    }
   ],
   "source": [
    "data.describe()"
   ]
  },
  {
   "cell_type": "code",
   "execution_count": null,
   "metadata": {},
   "outputs": [],
   "source": [
    "from sklearn.model_selection import GridSearchCV\n",
    "\n",
    "# helps finding the optimal hyperparameters\n",
    "param_grid = {\n",
    "    'n_estimators': [50, 100, 150],\n",
    "    'max_depth': [5, 10, 15],\n",
    "    # Add more hyperparameters and values\n",
    "}\n",
    "\n",
    "grid_search = GridSearchCV(RandomForestRegressor(random_state=42), param_grid=param_grid, cv=3)\n",
    "grid_search.fit(x_train, y_train)\n",
    "\n",
    "best_rf_regressor = grid_search.best_estimator_"
   ]
  },
  {
   "cell_type": "code",
   "execution_count": 27,
   "metadata": {},
   "outputs": [
    {
     "name": "stdout",
     "output_type": "stream",
     "text": [
      "Mean Squared Error (MSE) for Mean Prediction: 2549963.3355049016\n"
     ]
    }
   ],
   "source": [
    "import numpy as np\n",
    "from sklearn.metrics import mean_squared_error\n",
    "\n",
    "# Assuming you have your data and target variable ready\n",
    "# X_train: Input features (fingerprint_rdk)\n",
    "# y_train: Target variable (kcat values)\n",
    "\n",
    "# Calculate the mean of the target variable\n",
    "mean_target = np.mean(y_train)\n",
    "\n",
    "# Create an array of the mean target value with the same length as your data\n",
    "mean_predictions = np.full_like(y_train, fill_value=mean_target)\n",
    "\n",
    "# Calculate Mean Squared Error (MSE) for the mean prediction\n",
    "mse = mean_squared_error(y_train, mean_predictions)\n",
    "\n",
    "print(\"Mean Squared Error (MSE) for Mean Prediction:\", mse)"
   ]
  }
 ],
 "metadata": {
  "kernelspec": {
   "display_name": "bcb",
   "language": "python",
   "name": "python3"
  },
  "language_info": {
   "codemirror_mode": {
    "name": "ipython",
    "version": 3
   },
   "file_extension": ".py",
   "mimetype": "text/x-python",
   "name": "python",
   "nbconvert_exporter": "python",
   "pygments_lexer": "ipython3",
   "version": "3.11.4"
  },
  "orig_nbformat": 4
 },
 "nbformat": 4,
 "nbformat_minor": 2
}
