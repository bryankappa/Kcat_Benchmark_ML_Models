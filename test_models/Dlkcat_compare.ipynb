{
 "cells": [
  {
   "cell_type": "code",
   "execution_count": 56,
   "metadata": {},
   "outputs": [],
   "source": [
    "import numpy as np\n",
    "import pandas as pd\n",
    "from sklearn.ensemble import RandomForestRegressor\n",
    "from sklearn.metrics import mean_squared_error, mean_absolute_error, r2_score\n",
    "from sklearn.preprocessing import LabelEncoder, OneHotEncoder, MinMaxScaler\n",
    "from sklearn.model_selection import train_test_split\n",
    "from sklearn.decomposition import PCA\n",
    "from rdkit import Chem\n",
    "from rdkit.Chem import AllChem, Descriptors\n",
    "import os\n",
    "os.chdir(\"..\")\n",
    "os.chdir(\"Preprocessing\")\n",
    "from preprocessing import *\n",
    "import selfies as sf\n",
    "\n",
    "#Ensemble learning and random forest\n",
    "\n",
    "df = preprocessing(\"C:\\\\Users\\Gilbert\\Documents\\BCB_Research\\Kcat_Benchmark_ML_Models\\Data\\kcat_transferase.csv\")\n",
    "Dlkcat = pd.read_csv(\"C:\\\\Users\\Gilbert\\Documents\\BCB_Research\\Kcat_Benchmark_ML_Models\\Data\\Dlkcat_output.csv\")"
   ]
  },
  {
   "cell_type": "code",
   "execution_count": 62,
   "metadata": {},
   "outputs": [
    {
     "name": "stdout",
     "output_type": "stream",
     "text": [
      "       Substrate Name                                   Substrate SMILES  \\\n",
      "0        Nicotinamide                                C1=CC(=CN=C1)C(=O)N   \n",
      "1        Nicotinamide                                C1=CC(=CN=C1)C(=O)N   \n",
      "2        Nicotinamide                                C1=CC(=CN=C1)C(=O)N   \n",
      "3      L-Homocysteine                                    C(CS)C(C(=O)O)N   \n",
      "4      L-Homocysteine                                    C(CS)C(C(=O)O)N   \n",
      "...               ...                                                ...   \n",
      "4131     Succinyl-CoA  CC(C)(COP(=O)(O)OP(=O)(O)OCC1C(C(C(O1)N2C=NC3=...   \n",
      "4132     Succinyl-CoA  CC(C)(COP(=O)(O)OP(=O)(O)OCC1C(C(C(O1)N2C=NC3=...   \n",
      "4133     Acetoacetate                                   CC(=O)CC(=O)[O-]   \n",
      "4134  Acetoacetyl-CoA  CC(=O)CC(=O)SCCNC(=O)CCNC(=O)C(C(C)(C)COP(=O)(...   \n",
      "4135  Acetoacetyl-CoA  CC(=O)CC(=O)SCCNC(=O)CCNC(=O)C(C(C)(C)COP(=O)(...   \n",
      "\n",
      "                                       Protein Sequence  Kcat value (1/s)  \n",
      "0     MESGFTSKDTYLSHFNPRDFLEKYYKFGSRHSAESQILKHLLKNLF...            0.0583  \n",
      "1     MESGFTSKDTYLSHFNPRDYLEKYYKFGSRHSAESQILKHLLKNLF...            0.1254  \n",
      "2     MESGFTSKDTYLSHFNPRDYLEKYYKFGSRHSAESQILKHLLKNLF...            0.1185  \n",
      "3     MGLEKKSALLEDLIEKCGGCAVVDGGFATQLEIHGAAINDPLWSAV...            0.0513  \n",
      "4     MSQNNPLRALLDKQDILLLDGAMATELEARGCNLADSLWSAKVLVE...            0.0003  \n",
      "...                                                 ...               ...  \n",
      "4131  MSSQRPPRPLDDVRVLELGAFLAGPFCGQLLADFGAEVIKVEPPGK...           11.7954  \n",
      "4132  MAALTLLSSRLRLCASAYRSGGAWSQGCAGYFSTSTRRHTKFYTDA...          100.5084  \n",
      "4133  MAALTLLSSRLRLCASAYRSGGAWSQGCAGYFSTSTRRHTKFYTDA...          147.2754  \n",
      "4134  MAALTLLSSRLRLCASAYRSGGAWSQGSAGYFSTSTRRHTKFYTDA...          208.7380  \n",
      "4135  MAALTLLSSRLRLCASAYRSGGAWSQGCAGYFSTSTRRHTKFYTDA...          263.4565  \n",
      "\n",
      "[4136 rows x 4 columns]\n"
     ]
    }
   ],
   "source": [
    "print(Dlkcat)"
   ]
  },
  {
   "cell_type": "code",
   "execution_count": 57,
   "metadata": {},
   "outputs": [],
   "source": [
    "Dlkcat_kcat = Dlkcat[\"Kcat value (1/s)\"]\n",
    "df_kcat = df[\"Kcat\"]"
   ]
  },
  {
   "cell_type": "code",
   "execution_count": 50,
   "metadata": {},
   "outputs": [],
   "source": [
    "df_kcat = pd.concat([df_kcat, Dlkcat_kcat], axis =1)"
   ]
  },
  {
   "cell_type": "code",
   "execution_count": 63,
   "metadata": {},
   "outputs": [
    {
     "name": "stdout",
     "output_type": "stream",
     "text": [
      "NA Values and Corresponding Smiles:\n",
      "      Kcat value (1/s) Substrate SMILES\n",
      "10                 NaN              NaN\n",
      "11                 NaN              NaN\n",
      "93                 NaN              NaN\n",
      "94                 NaN              NaN\n",
      "1128               NaN              NaN\n",
      "1211               NaN              NaN\n",
      "1745               NaN              NaN\n",
      "1746               NaN              NaN\n",
      "1761               NaN              NaN\n",
      "1762               NaN              NaN\n",
      "1763               NaN              NaN\n",
      "1765               NaN              NaN\n",
      "1768               NaN              NaN\n",
      "1769               NaN              NaN\n",
      "1773               NaN              NaN\n",
      "1774               NaN              NaN\n",
      "1777               NaN              NaN\n",
      "1778               NaN              NaN\n",
      "1780               NaN              NaN\n",
      "1782               NaN              NaN\n",
      "1783               NaN              NaN\n",
      "1786               NaN              NaN\n",
      "1788               NaN              NaN\n",
      "1794               NaN              NaN\n",
      "1796               NaN              NaN\n",
      "1798               NaN              NaN\n",
      "1800               NaN              NaN\n",
      "1802               NaN              NaN\n",
      "1804               NaN              NaN\n",
      "1806               NaN              NaN\n",
      "1808               NaN              NaN\n",
      "1810               NaN              NaN\n",
      "1812               NaN              NaN\n",
      "1815               NaN              NaN\n",
      "1817               NaN              NaN\n",
      "1818               NaN              NaN\n",
      "2577               NaN              NaN\n",
      "3899               NaN              NaN\n"
     ]
    }
   ],
   "source": [
    "import pandas as pd\n",
    "\n",
    "# Assuming Dlkcat is your DataFrame\n",
    "na_mask = Dlkcat[\"Kcat value (1/s)\"].isna() | Dlkcat[\"Substrate SMILES\"].isna()\n",
    "na_subset = Dlkcat.loc[na_mask, [\"Kcat value (1/s)\", \"Substrate SMILES\"]]\n",
    "\n",
    "print(\"NA Values and Corresponding Smiles:\")\n",
    "print(na_subset)\n",
    "\n"
   ]
  },
  {
   "cell_type": "code",
   "execution_count": 4,
   "metadata": {},
   "outputs": [],
   "source": [
    "df_kcat_filtered = df_kcat.dropna()"
   ]
  },
  {
   "cell_type": "code",
   "execution_count": 5,
   "metadata": {},
   "outputs": [
    {
     "data": {
      "text/plain": [
       "Kcat                0\n",
       "Kcat value (1/s)    0\n",
       "dtype: int64"
      ]
     },
     "execution_count": 5,
     "metadata": {},
     "output_type": "execute_result"
    }
   ],
   "source": [
    "df_kcat_filtered.isna().sum()"
   ]
  },
  {
   "cell_type": "code",
   "execution_count": 6,
   "metadata": {},
   "outputs": [],
   "source": [
    "df_kcat_filtered = df_kcat_filtered[np.isfinite(df_kcat_filtered['Kcat'])]"
   ]
  },
  {
   "cell_type": "code",
   "execution_count": 11,
   "metadata": {},
   "outputs": [],
   "source": [
    "df_kcat_filtered = df_kcat_filtered[np.isfinite(df_kcat_filtered['Kcat value (1/s)'])]"
   ]
  },
  {
   "cell_type": "code",
   "execution_count": 14,
   "metadata": {},
   "outputs": [
    {
     "data": {
      "text/html": [
       "<div>\n",
       "<style scoped>\n",
       "    .dataframe tbody tr th:only-of-type {\n",
       "        vertical-align: middle;\n",
       "    }\n",
       "\n",
       "    .dataframe tbody tr th {\n",
       "        vertical-align: top;\n",
       "    }\n",
       "\n",
       "    .dataframe thead th {\n",
       "        text-align: right;\n",
       "    }\n",
       "</style>\n",
       "<table border=\"1\" class=\"dataframe\">\n",
       "  <thead>\n",
       "    <tr style=\"text-align: right;\">\n",
       "      <th></th>\n",
       "      <th>Kcat</th>\n",
       "      <th>Kcat value (1/s)</th>\n",
       "    </tr>\n",
       "  </thead>\n",
       "  <tbody>\n",
       "    <tr>\n",
       "      <th>count</th>\n",
       "      <td>4098.000000</td>\n",
       "      <td>4098.000000</td>\n",
       "    </tr>\n",
       "    <tr>\n",
       "      <th>mean</th>\n",
       "      <td>137.517245</td>\n",
       "      <td>61.555613</td>\n",
       "    </tr>\n",
       "    <tr>\n",
       "      <th>std</th>\n",
       "      <td>1446.682949</td>\n",
       "      <td>616.363826</td>\n",
       "    </tr>\n",
       "    <tr>\n",
       "      <th>min</th>\n",
       "      <td>0.000003</td>\n",
       "      <td>0.000000</td>\n",
       "    </tr>\n",
       "    <tr>\n",
       "      <th>25%</th>\n",
       "      <td>0.150000</td>\n",
       "      <td>0.154850</td>\n",
       "    </tr>\n",
       "    <tr>\n",
       "      <th>50%</th>\n",
       "      <td>2.005000</td>\n",
       "      <td>1.677700</td>\n",
       "    </tr>\n",
       "    <tr>\n",
       "      <th>75%</th>\n",
       "      <td>22.275000</td>\n",
       "      <td>15.543750</td>\n",
       "    </tr>\n",
       "    <tr>\n",
       "      <th>max</th>\n",
       "      <td>78300.000000</td>\n",
       "      <td>34684.250800</td>\n",
       "    </tr>\n",
       "  </tbody>\n",
       "</table>\n",
       "</div>"
      ],
      "text/plain": [
       "               Kcat  Kcat value (1/s)\n",
       "count   4098.000000       4098.000000\n",
       "mean     137.517245         61.555613\n",
       "std     1446.682949        616.363826\n",
       "min        0.000003          0.000000\n",
       "25%        0.150000          0.154850\n",
       "50%        2.005000          1.677700\n",
       "75%       22.275000         15.543750\n",
       "max    78300.000000      34684.250800"
      ]
     },
     "execution_count": 14,
     "metadata": {},
     "output_type": "execute_result"
    }
   ],
   "source": [
    "df_kcat_filtered.describe()"
   ]
  },
  {
   "cell_type": "code",
   "execution_count": 29,
   "metadata": {},
   "outputs": [
    {
     "data": {
      "text/plain": [
       "(4098, 2)"
      ]
     },
     "execution_count": 29,
     "metadata": {},
     "output_type": "execute_result"
    }
   ],
   "source": [
    "df_kcat_filtered.shape"
   ]
  },
  {
   "cell_type": "code",
   "execution_count": 31,
   "metadata": {},
   "outputs": [],
   "source": [
    "from sklearn.metrics import mean_absolute_error, mean_squared_error, r2_score\n",
    "\n",
    "x = np.log1p(df_kcat_filtered[[\"Kcat value (1/s)\"]])\n",
    "y = np.log1p(df_kcat_filtered[\"Kcat\"])\n"
   ]
  },
  {
   "cell_type": "code",
   "execution_count": 32,
   "metadata": {},
   "outputs": [
    {
     "name": "stdout",
     "output_type": "stream",
     "text": [
      "10.454069826584668\n",
      "0.0\n"
     ]
    }
   ],
   "source": [
    "print(np.max(x))\n",
    "print(np.min(x))"
   ]
  },
  {
   "cell_type": "code",
   "execution_count": 33,
   "metadata": {},
   "outputs": [
    {
     "data": {
      "text/plain": [
       "(4098, 1)"
      ]
     },
     "execution_count": 33,
     "metadata": {},
     "output_type": "execute_result"
    }
   ],
   "source": [
    "x.shape"
   ]
  },
  {
   "cell_type": "code",
   "execution_count": 44,
   "metadata": {},
   "outputs": [
    {
     "name": "stdout",
     "output_type": "stream",
     "text": [
      "MAE:  0.5337944890774426\n",
      "MSE:  0.8865422732004301\n",
      "r2: 0.7935635107959766\n",
      "RMSE: 0.9415637382569648\n"
     ]
    }
   ],
   "source": [
    "x_train, x_test, y_train , y_test = train_test_split(x, y, test_size=0.2, random_state=42)\n",
    "\n",
    "\n",
    "mse = mean_squared_error(y_test, x_test)\n",
    "print('MAE: ', mean_absolute_error(y_test, x_test))\n",
    "print('MSE: ', mean_squared_error(y_test, x_test)) \n",
    "print('r2:', r2_score(y_test, x_test))\n",
    "print('RMSE:', np.sqrt(mse))"
   ]
  },
  {
   "cell_type": "code",
   "execution_count": null,
   "metadata": {},
   "outputs": [],
   "source": []
  },
  {
   "cell_type": "code",
   "execution_count": null,
   "metadata": {},
   "outputs": [],
   "source": []
  }
 ],
 "metadata": {
  "kernelspec": {
   "display_name": "bcb_2",
   "language": "python",
   "name": "python3"
  },
  "language_info": {
   "codemirror_mode": {
    "name": "ipython",
    "version": 3
   },
   "file_extension": ".py",
   "mimetype": "text/x-python",
   "name": "python",
   "nbconvert_exporter": "python",
   "pygments_lexer": "ipython3",
   "version": "3.11.5"
  }
 },
 "nbformat": 4,
 "nbformat_minor": 2
}
