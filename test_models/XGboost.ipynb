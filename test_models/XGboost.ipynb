{
 "cells": [
  {
   "cell_type": "code",
   "execution_count": 1,
   "metadata": {},
   "outputs": [],
   "source": [
    "import numpy as np\n",
    "import pandas as pd\n",
    "from sklearn.ensemble import RandomForestRegressor\n",
    "from sklearn.metrics import mean_squared_error, mean_absolute_error, r2_score\n",
    "from sklearn.preprocessing import LabelEncoder, OneHotEncoder, MinMaxScaler\n",
    "from sklearn.model_selection import train_test_split\n",
    "from sklearn.decomposition import PCA\n",
    "from rdkit import Chem\n",
    "from rdkit.Chem import AllChem, Descriptors\n",
    "import os\n",
    "os.chdir(\"..\")\n",
    "os.chdir(\"Preprocessing\")\n",
    "from preprocessing import *\n",
    "import selfies as sf\n",
    "\n",
    "#Ensemble learning and random forest\n",
    "\n",
    "df = preprocessing(\"C:\\\\Users\\Gilbert\\Documents\\BCB_Research\\Kcat_Benchmark_ML_Models\\Data\\kcat_transferase.csv\")\n",
    "encoded_df = pd.read_csv(\"C:\\\\Users\\Gilbert\\Documents\\BCB_Research\\Kcat_Benchmark_ML_Models\\Data\\encoded_amino.csv\")\n"
   ]
  },
  {
   "cell_type": "code",
   "execution_count": 3,
   "metadata": {},
   "outputs": [],
   "source": [
    "data = df.copy()"
   ]
  },
  {
   "cell_type": "code",
   "execution_count": 2,
   "metadata": {},
   "outputs": [],
   "source": [
    "data = df.copy()\n",
    "# Kcat\n",
    "data[\"Kcat\"] = np.log10(data[\"Kcat\"])  # Applying log(x + 1) to handle zeros\n",
    "\n",
    "# Assuming encoded_df is your one-hot encoded data from before\n",
    "amino_pca = PCA(n_components=433)\n",
    "principal_components = amino_pca.fit_transform(encoded_df)\n",
    "\n",
    "# Convert to DataFrame\n",
    "amino_pca_df = pd.DataFrame(data=principal_components)"
   ]
  },
  {
   "cell_type": "code",
   "execution_count": 4,
   "metadata": {},
   "outputs": [],
   "source": [
    "from xgboost import XGBRegressor\n",
    "\n",
    "data[\"Kcat\"] = np.log10(data[\"Kcat\"])\n",
    "\n",
    "x = encoded_df\n",
    "y = data[\"Kcat\"]\n",
    "\n",
    "x_train, x_test, y_train , y_test = train_test_split(x, y, test_size=0.2, random_state=42)\n"
   ]
  },
  {
   "cell_type": "code",
   "execution_count": 7,
   "metadata": {},
   "outputs": [
    {
     "name": "stdout",
     "output_type": "stream",
     "text": [
      "0      -1.387216\n",
      "1       0.008600\n",
      "2      -1.080922\n",
      "3      -1.425969\n",
      "4      -0.420216\n",
      "          ...   \n",
      "4131    1.113943\n",
      "4132    1.571709\n",
      "4133    1.992554\n",
      "4134    2.912063\n",
      "4135    3.096910\n",
      "Name: Kcat, Length: 4136, dtype: float64\n"
     ]
    }
   ],
   "source": [
    "print(y)"
   ]
  },
  {
   "cell_type": "code",
   "execution_count": 5,
   "metadata": {},
   "outputs": [],
   "source": [
    "# lets initialize the model\n",
    "model = XGBRegressor()\n",
    "\n",
    "model.fit(x_train, y_train)\n",
    "\n",
    "y_pred = model.predict(x_test)"
   ]
  },
  {
   "cell_type": "code",
   "execution_count": 6,
   "metadata": {},
   "outputs": [
    {
     "name": "stdout",
     "output_type": "stream",
     "text": [
      "MAE:  0.6684226945231213\n",
      "MSE:  0.9525804239420307\n",
      "r2: 0.6417731372331175\n",
      "RMSE: 0.9760022663611139\n"
     ]
    }
   ],
   "source": [
    "from sklearn.metrics import mean_absolute_error, mean_squared_error, r2_score\n",
    "\n",
    "mse = mean_squared_error(y_test, y_pred)\n",
    "\n",
    "print('MAE: ', mean_absolute_error(y_test, y_pred))\n",
    "print('MSE: ', mean_squared_error(y_test, y_pred)) \n",
    "print('r2:', r2_score(y_test, y_pred))\n",
    "print('RMSE:', np.sqrt(mse))"
   ]
  },
  {
   "cell_type": "code",
   "execution_count": 12,
   "metadata": {},
   "outputs": [
    {
     "name": "stdout",
     "output_type": "stream",
     "text": [
      "Fitting 3 folds for each of 729 candidates, totalling 2187 fits\n",
      "Best parameters found:  {'colsample_bytree': 0.8, 'gamma': 0, 'learning_rate': 0.05, 'max_depth': 5, 'n_estimators': 300, 'subsample': 0.9}\n"
     ]
    }
   ],
   "source": [
    "from sklearn.model_selection import GridSearchCV\n",
    "import xgboost as xgb\n",
    "\n",
    "param_grid = {\n",
    "    'n_estimators': [100, 200, 300],\n",
    "    'learning_rate': [0.01, 0.05, 0.1],\n",
    "    'max_depth': [3, 4, 5],\n",
    "    'subsample': [0.7, 0.8, 0.9],\n",
    "    'colsample_bytree': [0.7, 0.8, 0.9],\n",
    "    'gamma': [0, 0.1, 0.2],\n",
    "}\n",
    "\n",
    "model = xgb.XGBRegressor()\n",
    "grid_search = GridSearchCV(model, param_grid, scoring='neg_mean_squared_error', cv=3, verbose=1)\n",
    "grid_search.fit(x_train, y_train)\n",
    "\n",
    "best_params = grid_search.best_params_\n",
    "print(\"Best parameters found: \", best_params)"
   ]
  },
  {
   "cell_type": "code",
   "execution_count": 11,
   "metadata": {},
   "outputs": [
    {
     "name": "stdout",
     "output_type": "stream",
     "text": [
      "[0]\tvalidation_0-rmse:1.44254\tvalidation_1-rmse:1.54487\n",
      "[1]\tvalidation_0-rmse:1.29519\tvalidation_1-rmse:1.40424\n"
     ]
    },
    {
     "name": "stderr",
     "output_type": "stream",
     "text": [
      "c:\\Users\\Gilbert\\anaconda3\\envs\\bcb\\Lib\\site-packages\\xgboost\\sklearn.py:835: UserWarning: `eval_metric` in `fit` method is deprecated for better compatibility with scikit-learn, use `eval_metric` in constructor or`set_params` instead.\n",
      "  warnings.warn(\n"
     ]
    },
    {
     "name": "stdout",
     "output_type": "stream",
     "text": [
      "[2]\tvalidation_0-rmse:1.21055\tvalidation_1-rmse:1.33990\n",
      "[3]\tvalidation_0-rmse:1.11417\tvalidation_1-rmse:1.26514\n",
      "[4]\tvalidation_0-rmse:1.03385\tvalidation_1-rmse:1.19276\n",
      "[5]\tvalidation_0-rmse:0.98264\tvalidation_1-rmse:1.16075\n",
      "[6]\tvalidation_0-rmse:0.94252\tvalidation_1-rmse:1.13022\n",
      "[7]\tvalidation_0-rmse:0.90011\tvalidation_1-rmse:1.10397\n",
      "[8]\tvalidation_0-rmse:0.84319\tvalidation_1-rmse:1.07022\n",
      "[9]\tvalidation_0-rmse:0.80560\tvalidation_1-rmse:1.04436\n",
      "[10]\tvalidation_0-rmse:0.77012\tvalidation_1-rmse:1.02624\n",
      "[11]\tvalidation_0-rmse:0.73164\tvalidation_1-rmse:1.01162\n",
      "[12]\tvalidation_0-rmse:0.70618\tvalidation_1-rmse:0.99994\n",
      "[13]\tvalidation_0-rmse:0.69792\tvalidation_1-rmse:1.00061\n",
      "[14]\tvalidation_0-rmse:0.68322\tvalidation_1-rmse:0.99463\n",
      "[15]\tvalidation_0-rmse:0.67003\tvalidation_1-rmse:0.99025\n",
      "[16]\tvalidation_0-rmse:0.66029\tvalidation_1-rmse:0.98535\n",
      "[17]\tvalidation_0-rmse:0.65124\tvalidation_1-rmse:0.98571\n",
      "[18]\tvalidation_0-rmse:0.64532\tvalidation_1-rmse:0.98183\n",
      "[19]\tvalidation_0-rmse:0.64106\tvalidation_1-rmse:0.97731\n",
      "[20]\tvalidation_0-rmse:0.62461\tvalidation_1-rmse:0.97155\n",
      "[21]\tvalidation_0-rmse:0.61240\tvalidation_1-rmse:0.96599\n",
      "[22]\tvalidation_0-rmse:0.61012\tvalidation_1-rmse:0.96518\n",
      "[23]\tvalidation_0-rmse:0.59776\tvalidation_1-rmse:0.96120\n",
      "[24]\tvalidation_0-rmse:0.59530\tvalidation_1-rmse:0.96224\n",
      "[25]\tvalidation_0-rmse:0.58943\tvalidation_1-rmse:0.95953\n",
      "[26]\tvalidation_0-rmse:0.58646\tvalidation_1-rmse:0.95911\n",
      "[27]\tvalidation_0-rmse:0.57935\tvalidation_1-rmse:0.95641\n",
      "[28]\tvalidation_0-rmse:0.57606\tvalidation_1-rmse:0.95421\n",
      "[29]\tvalidation_0-rmse:0.57486\tvalidation_1-rmse:0.95373\n",
      "[30]\tvalidation_0-rmse:0.57267\tvalidation_1-rmse:0.95319\n",
      "[31]\tvalidation_0-rmse:0.56750\tvalidation_1-rmse:0.95501\n",
      "[32]\tvalidation_0-rmse:0.56082\tvalidation_1-rmse:0.95319\n",
      "[33]\tvalidation_0-rmse:0.55177\tvalidation_1-rmse:0.95136\n",
      "[34]\tvalidation_0-rmse:0.54884\tvalidation_1-rmse:0.95516\n",
      "[35]\tvalidation_0-rmse:0.53939\tvalidation_1-rmse:0.95086\n",
      "[36]\tvalidation_0-rmse:0.53805\tvalidation_1-rmse:0.95062\n",
      "[37]\tvalidation_0-rmse:0.53217\tvalidation_1-rmse:0.94745\n",
      "[38]\tvalidation_0-rmse:0.53146\tvalidation_1-rmse:0.94808\n",
      "[39]\tvalidation_0-rmse:0.52630\tvalidation_1-rmse:0.94643\n",
      "[40]\tvalidation_0-rmse:0.52511\tvalidation_1-rmse:0.94684\n",
      "[41]\tvalidation_0-rmse:0.52392\tvalidation_1-rmse:0.94773\n",
      "[42]\tvalidation_0-rmse:0.52052\tvalidation_1-rmse:0.94633\n",
      "[43]\tvalidation_0-rmse:0.51650\tvalidation_1-rmse:0.94609\n",
      "[44]\tvalidation_0-rmse:0.51557\tvalidation_1-rmse:0.94667\n",
      "[45]\tvalidation_0-rmse:0.51038\tvalidation_1-rmse:0.94469\n",
      "[46]\tvalidation_0-rmse:0.50649\tvalidation_1-rmse:0.94406\n",
      "[47]\tvalidation_0-rmse:0.50499\tvalidation_1-rmse:0.94508\n",
      "[48]\tvalidation_0-rmse:0.50439\tvalidation_1-rmse:0.94460\n",
      "[49]\tvalidation_0-rmse:0.50195\tvalidation_1-rmse:0.94369\n",
      "[50]\tvalidation_0-rmse:0.50122\tvalidation_1-rmse:0.94402\n",
      "[51]\tvalidation_0-rmse:0.49979\tvalidation_1-rmse:0.94475\n",
      "[52]\tvalidation_0-rmse:0.49908\tvalidation_1-rmse:0.94410\n",
      "[53]\tvalidation_0-rmse:0.49828\tvalidation_1-rmse:0.94497\n",
      "[54]\tvalidation_0-rmse:0.49754\tvalidation_1-rmse:0.94555\n",
      "[55]\tvalidation_0-rmse:0.49662\tvalidation_1-rmse:0.94612\n",
      "[56]\tvalidation_0-rmse:0.49508\tvalidation_1-rmse:0.94544\n",
      "[57]\tvalidation_0-rmse:0.49399\tvalidation_1-rmse:0.94542\n",
      "[58]\tvalidation_0-rmse:0.48988\tvalidation_1-rmse:0.94461\n",
      "[59]\tvalidation_0-rmse:0.48900\tvalidation_1-rmse:0.94495\n",
      "[60]\tvalidation_0-rmse:0.48865\tvalidation_1-rmse:0.94499\n",
      "[61]\tvalidation_0-rmse:0.48552\tvalidation_1-rmse:0.94289\n",
      "[62]\tvalidation_0-rmse:0.48272\tvalidation_1-rmse:0.94407\n",
      "[63]\tvalidation_0-rmse:0.47958\tvalidation_1-rmse:0.94333\n",
      "[64]\tvalidation_0-rmse:0.47786\tvalidation_1-rmse:0.94300\n",
      "[65]\tvalidation_0-rmse:0.47478\tvalidation_1-rmse:0.94258\n",
      "[66]\tvalidation_0-rmse:0.47341\tvalidation_1-rmse:0.94257\n",
      "[67]\tvalidation_0-rmse:0.47313\tvalidation_1-rmse:0.94247\n",
      "[68]\tvalidation_0-rmse:0.47240\tvalidation_1-rmse:0.94214\n",
      "[69]\tvalidation_0-rmse:0.47113\tvalidation_1-rmse:0.94111\n",
      "[70]\tvalidation_0-rmse:0.46953\tvalidation_1-rmse:0.94037\n",
      "[71]\tvalidation_0-rmse:0.46741\tvalidation_1-rmse:0.94081\n",
      "[72]\tvalidation_0-rmse:0.46495\tvalidation_1-rmse:0.93961\n",
      "[73]\tvalidation_0-rmse:0.46465\tvalidation_1-rmse:0.93938\n",
      "[74]\tvalidation_0-rmse:0.46432\tvalidation_1-rmse:0.93972\n",
      "[75]\tvalidation_0-rmse:0.46409\tvalidation_1-rmse:0.93958\n",
      "[76]\tvalidation_0-rmse:0.46314\tvalidation_1-rmse:0.93903\n",
      "[77]\tvalidation_0-rmse:0.46297\tvalidation_1-rmse:0.93937\n",
      "[78]\tvalidation_0-rmse:0.46188\tvalidation_1-rmse:0.93893\n",
      "[79]\tvalidation_0-rmse:0.45995\tvalidation_1-rmse:0.94011\n",
      "[80]\tvalidation_0-rmse:0.45970\tvalidation_1-rmse:0.93986\n",
      "[81]\tvalidation_0-rmse:0.45806\tvalidation_1-rmse:0.94039\n",
      "[82]\tvalidation_0-rmse:0.45731\tvalidation_1-rmse:0.94132\n",
      "[83]\tvalidation_0-rmse:0.45708\tvalidation_1-rmse:0.94142\n",
      "[84]\tvalidation_0-rmse:0.45686\tvalidation_1-rmse:0.94111\n",
      "[85]\tvalidation_0-rmse:0.45601\tvalidation_1-rmse:0.94100\n",
      "[86]\tvalidation_0-rmse:0.45574\tvalidation_1-rmse:0.94114\n",
      "[87]\tvalidation_0-rmse:0.45534\tvalidation_1-rmse:0.94104\n",
      "[88]\tvalidation_0-rmse:0.45517\tvalidation_1-rmse:0.94117\n",
      "[89]\tvalidation_0-rmse:0.45393\tvalidation_1-rmse:0.94240\n",
      "[90]\tvalidation_0-rmse:0.45360\tvalidation_1-rmse:0.94205\n",
      "[91]\tvalidation_0-rmse:0.45341\tvalidation_1-rmse:0.94195\n",
      "[92]\tvalidation_0-rmse:0.45271\tvalidation_1-rmse:0.94220\n",
      "[93]\tvalidation_0-rmse:0.45244\tvalidation_1-rmse:0.94227\n",
      "[94]\tvalidation_0-rmse:0.45188\tvalidation_1-rmse:0.94186\n",
      "[95]\tvalidation_0-rmse:0.45164\tvalidation_1-rmse:0.94168\n",
      "[96]\tvalidation_0-rmse:0.45067\tvalidation_1-rmse:0.94251\n",
      "[97]\tvalidation_0-rmse:0.45000\tvalidation_1-rmse:0.94250\n",
      "[98]\tvalidation_0-rmse:0.44990\tvalidation_1-rmse:0.94248\n",
      "[99]\tvalidation_0-rmse:0.44874\tvalidation_1-rmse:0.94182\n"
     ]
    },
    {
     "data": {
      "image/png": "[encoded data removed]",
      "text/plain": [
       "<Figure size 640x480 with 1 Axes>"
      ]
     },
     "metadata": {},
     "output_type": "display_data"
    }
   ],
   "source": [
    "# print out the predictions\n",
    "\n",
    "eval_set = [(x_train, y_train), (x_test, y_test)]\n",
    "model.fit(x_train, y_train, eval_metric=\"rmse\", eval_set=eval_set, verbose=True)\n",
    "\n",
    "# Retrieve performance metrics\n",
    "results = model.evals_result()\n",
    "epochs = len(results['validation_0']['rmse'])\n",
    "x_axis = range(0, epochs)\n",
    "\n",
    "# Plot RMSE\n",
    "fig, ax = plt.subplots()\n",
    "ax.plot(x_axis, results['validation_0']['rmse'], label='Train')\n",
    "ax.plot(x_axis, results['validation_1']['rmse'], label='Test')\n",
    "ax.legend()\n",
    "plt.ylabel('RMSE')\n",
    "plt.title('XGBoost RMSE')\n",
    "plt.show()"
   ]
  }
 ],
 "metadata": {
  "kernelspec": {
   "display_name": "bcb",
   "language": "python",
   "name": "python3"
  },
  "language_info": {
   "codemirror_mode": {
    "name": "ipython",
    "version": 3
   },
   "file_extension": ".py",
   "mimetype": "text/x-python",
   "name": "python",
   "nbconvert_exporter": "python",
   "pygments_lexer": "ipython3",
   "version": "3.11.5"
  },
  "orig_nbformat": 4
 },
 "nbformat": 4,
 "nbformat_minor": 2
}
