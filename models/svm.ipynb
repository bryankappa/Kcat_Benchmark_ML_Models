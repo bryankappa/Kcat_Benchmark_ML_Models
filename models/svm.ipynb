{
 "cells": [
  {
   "cell_type": "code",
   "execution_count": 15,
   "metadata": {},
   "outputs": [],
   "source": [
    "import numpy as np\n",
    "import pandas as pd\n",
    "from sklearn.ensemble import RandomForestRegressor\n",
    "from sklearn.metrics import mean_squared_error, mean_absolute_error, r2_score\n",
    "from sklearn.preprocessing import LabelEncoder, OneHotEncoder, MinMaxScaler\n",
    "from sklearn.model_selection import train_test_split\n",
    "from rdkit import Chem\n",
    "from rdkit.Chem import AllChem, rdFingerprintGenerator\n",
    "import os\n",
    "os.chdir(\"..\")\n",
    "os.chdir(\"Preprocessing\")\n",
    "from preprocessing import *\n",
    "import selfies as sf\n",
    "\n",
    "#Ensemble learning and random forest\n",
    "\n",
    "df = preprocessing(\"C:\\\\Users\\Gilbert\\Documents\\BCB_Research\\Kcat_Benchmark_ML_Models\\Data\\kcat_transferase.csv\")\n"
   ]
  },
  {
   "cell_type": "code",
   "execution_count": 88,
   "metadata": {},
   "outputs": [
    {
     "data": {
      "text/html": [
       "<div>\n",
       "<style scoped>\n",
       "    .dataframe tbody tr th:only-of-type {\n",
       "        vertical-align: middle;\n",
       "    }\n",
       "\n",
       "    .dataframe tbody tr th {\n",
       "        vertical-align: top;\n",
       "    }\n",
       "\n",
       "    .dataframe thead th {\n",
       "        text-align: right;\n",
       "    }\n",
       "</style>\n",
       "<table border=\"1\" class=\"dataframe\">\n",
       "  <thead>\n",
       "    <tr style=\"text-align: right;\">\n",
       "      <th></th>\n",
       "      <th>EC_number</th>\n",
       "      <th>Species</th>\n",
       "      <th>Compound</th>\n",
       "      <th>Compound_name</th>\n",
       "      <th>Amino_encoding</th>\n",
       "      <th>Kcat</th>\n",
       "      <th>unit</th>\n",
       "    </tr>\n",
       "  </thead>\n",
       "  <tbody>\n",
       "    <tr>\n",
       "      <th>0</th>\n",
       "      <td>2.1.1.1</td>\n",
       "      <td>Homo sapiens</td>\n",
       "      <td>C1=CC(=CN=C1)C(=O)N</td>\n",
       "      <td>Nicotinamide</td>\n",
       "      <td>MESGFTSKDTYLSHFNPRDFLEKYYKFGSRHSAESQILKHLLKNLF...</td>\n",
       "      <td>0.0410</td>\n",
       "      <td>s^(-1)</td>\n",
       "    </tr>\n",
       "    <tr>\n",
       "      <th>1</th>\n",
       "      <td>2.1.1.1</td>\n",
       "      <td>Homo sapiens</td>\n",
       "      <td>C1=CC(=CN=C1)C(=O)N</td>\n",
       "      <td>Nicotinamide</td>\n",
       "      <td>MESGFTSKDTYLSHFNPRDYLEKYYKFGSRHSAESQILKHLLKNLF...</td>\n",
       "      <td>1.0200</td>\n",
       "      <td>s^(-1)</td>\n",
       "    </tr>\n",
       "    <tr>\n",
       "      <th>2</th>\n",
       "      <td>2.1.1.1</td>\n",
       "      <td>Homo sapiens</td>\n",
       "      <td>C1=CC(=CN=C1)C(=O)N</td>\n",
       "      <td>Nicotinamide</td>\n",
       "      <td>MESGFTSKDTYLSHFNPRDYLEKYYKFGSRHSAESQILKHLLKNLF...</td>\n",
       "      <td>0.0830</td>\n",
       "      <td>s^(-1)</td>\n",
       "    </tr>\n",
       "    <tr>\n",
       "      <th>3</th>\n",
       "      <td>2.1.1.10</td>\n",
       "      <td>Brassica oleracea</td>\n",
       "      <td>C(CS)C(C(=O)O)N</td>\n",
       "      <td>L-Homocysteine</td>\n",
       "      <td>MGLEKKSALLEDLIEKCGGCAVVDGGFATQLEIHGAAINDPLWSAV...</td>\n",
       "      <td>0.0375</td>\n",
       "      <td>s^(-1)</td>\n",
       "    </tr>\n",
       "    <tr>\n",
       "      <th>4</th>\n",
       "      <td>2.1.1.10</td>\n",
       "      <td>Escherichia coli</td>\n",
       "      <td>C(CS)C(C(=O)O)N</td>\n",
       "      <td>L-Homocysteine</td>\n",
       "      <td>MSQNNPLRALLDKQDILLLDGAMATELEARGCNLADSLWSAKVLVE...</td>\n",
       "      <td>0.3800</td>\n",
       "      <td>s^(-1)</td>\n",
       "    </tr>\n",
       "  </tbody>\n",
       "</table>\n",
       "</div>"
      ],
      "text/plain": [
       "  EC_number            Species             Compound   Compound_name  \\\n",
       "0   2.1.1.1       Homo sapiens  C1=CC(=CN=C1)C(=O)N    Nicotinamide   \n",
       "1   2.1.1.1       Homo sapiens  C1=CC(=CN=C1)C(=O)N    Nicotinamide   \n",
       "2   2.1.1.1       Homo sapiens  C1=CC(=CN=C1)C(=O)N    Nicotinamide   \n",
       "3  2.1.1.10  Brassica oleracea      C(CS)C(C(=O)O)N  L-Homocysteine   \n",
       "4  2.1.1.10   Escherichia coli      C(CS)C(C(=O)O)N  L-Homocysteine   \n",
       "\n",
       "                                      Amino_encoding    Kcat    unit  \n",
       "0  MESGFTSKDTYLSHFNPRDFLEKYYKFGSRHSAESQILKHLLKNLF...  0.0410  s^(-1)  \n",
       "1  MESGFTSKDTYLSHFNPRDYLEKYYKFGSRHSAESQILKHLLKNLF...  1.0200  s^(-1)  \n",
       "2  MESGFTSKDTYLSHFNPRDYLEKYYKFGSRHSAESQILKHLLKNLF...  0.0830  s^(-1)  \n",
       "3  MGLEKKSALLEDLIEKCGGCAVVDGGFATQLEIHGAAINDPLWSAV...  0.0375  s^(-1)  \n",
       "4  MSQNNPLRALLDKQDILLLDGAMATELEARGCNLADSLWSAKVLVE...  0.3800  s^(-1)  "
      ]
     },
     "execution_count": 88,
     "metadata": {},
     "output_type": "execute_result"
    }
   ],
   "source": [
    "data = df.copy()\n",
    "\n",
    "data.head()"
   ]
  },
  {
   "cell_type": "code",
   "execution_count": 89,
   "metadata": {},
   "outputs": [
    {
     "name": "stderr",
     "output_type": "stream",
     "text": [
      "[01:21:37] WARNING: not removing hydrogen atom without neighbors\n",
      "[01:21:37] WARNING: not removing hydrogen atom without neighbors\n"
     ]
    }
   ],
   "source": [
    "# Apply logarithmic transformation to 'Kcat'\n",
    "data[\"Kcat\"] = np.log10(data[\"Kcat\"])  # Applying log(x + 1) to handle zeros\n",
    "\n",
    "compound = data[\"Compound\"]\n",
    "\n",
    "data[\"smiles\"] = [Chem.MolFromSmiles(smiles) for smiles in compound]\n",
    "\n",
    "label_encoder = LabelEncoder()\n",
    "data[\"EC_number\"] = label_encoder.fit_transform(data[\"EC_number\"])\n",
    "data[\"Species\"] = label_encoder.fit_transform(data[\"Species\"])\n",
    "\n"
   ]
  },
  {
   "cell_type": "code",
   "execution_count": 90,
   "metadata": {},
   "outputs": [
    {
     "data": {
      "text/html": [
       "<div>\n",
       "<style scoped>\n",
       "    .dataframe tbody tr th:only-of-type {\n",
       "        vertical-align: middle;\n",
       "    }\n",
       "\n",
       "    .dataframe tbody tr th {\n",
       "        vertical-align: top;\n",
       "    }\n",
       "\n",
       "    .dataframe thead th {\n",
       "        text-align: right;\n",
       "    }\n",
       "</style>\n",
       "<table border=\"1\" class=\"dataframe\">\n",
       "  <thead>\n",
       "    <tr style=\"text-align: right;\">\n",
       "      <th></th>\n",
       "      <th>EC_number</th>\n",
       "      <th>Species</th>\n",
       "      <th>Compound</th>\n",
       "      <th>Compound_name</th>\n",
       "      <th>Amino_encoding</th>\n",
       "      <th>Kcat</th>\n",
       "      <th>unit</th>\n",
       "      <th>smiles</th>\n",
       "    </tr>\n",
       "  </thead>\n",
       "  <tbody>\n",
       "    <tr>\n",
       "      <th>0</th>\n",
       "      <td>0</td>\n",
       "      <td>99</td>\n",
       "      <td>C1=CC(=CN=C1)C(=O)N</td>\n",
       "      <td>Nicotinamide</td>\n",
       "      <td>MESGFTSKDTYLSHFNPRDFLEKYYKFGSRHSAESQILKHLLKNLF...</td>\n",
       "      <td>-1.387216</td>\n",
       "      <td>s^(-1)</td>\n",
       "      <td>&lt;rdkit.Chem.rdchem.Mol object at 0x0000023643E...</td>\n",
       "    </tr>\n",
       "    <tr>\n",
       "      <th>1</th>\n",
       "      <td>0</td>\n",
       "      <td>99</td>\n",
       "      <td>C1=CC(=CN=C1)C(=O)N</td>\n",
       "      <td>Nicotinamide</td>\n",
       "      <td>MESGFTSKDTYLSHFNPRDYLEKYYKFGSRHSAESQILKHLLKNLF...</td>\n",
       "      <td>0.008600</td>\n",
       "      <td>s^(-1)</td>\n",
       "      <td>&lt;rdkit.Chem.rdchem.Mol object at 0x00000234A53...</td>\n",
       "    </tr>\n",
       "    <tr>\n",
       "      <th>2</th>\n",
       "      <td>0</td>\n",
       "      <td>99</td>\n",
       "      <td>C1=CC(=CN=C1)C(=O)N</td>\n",
       "      <td>Nicotinamide</td>\n",
       "      <td>MESGFTSKDTYLSHFNPRDYLEKYYKFGSRHSAESQILKHLLKNLF...</td>\n",
       "      <td>-1.080922</td>\n",
       "      <td>s^(-1)</td>\n",
       "      <td>&lt;rdkit.Chem.rdchem.Mol object at 0x00000234A53...</td>\n",
       "    </tr>\n",
       "    <tr>\n",
       "      <th>3</th>\n",
       "      <td>1</td>\n",
       "      <td>39</td>\n",
       "      <td>C(CS)C(C(=O)O)N</td>\n",
       "      <td>L-Homocysteine</td>\n",
       "      <td>MGLEKKSALLEDLIEKCGGCAVVDGGFATQLEIHGAAINDPLWSAV...</td>\n",
       "      <td>-1.425969</td>\n",
       "      <td>s^(-1)</td>\n",
       "      <td>&lt;rdkit.Chem.rdchem.Mol object at 0x00000234A53...</td>\n",
       "    </tr>\n",
       "    <tr>\n",
       "      <th>4</th>\n",
       "      <td>1</td>\n",
       "      <td>81</td>\n",
       "      <td>C(CS)C(C(=O)O)N</td>\n",
       "      <td>L-Homocysteine</td>\n",
       "      <td>MSQNNPLRALLDKQDILLLDGAMATELEARGCNLADSLWSAKVLVE...</td>\n",
       "      <td>-0.420216</td>\n",
       "      <td>s^(-1)</td>\n",
       "      <td>&lt;rdkit.Chem.rdchem.Mol object at 0x00000234A53...</td>\n",
       "    </tr>\n",
       "  </tbody>\n",
       "</table>\n",
       "</div>"
      ],
      "text/plain": [
       "   EC_number  Species             Compound   Compound_name  \\\n",
       "0          0       99  C1=CC(=CN=C1)C(=O)N    Nicotinamide   \n",
       "1          0       99  C1=CC(=CN=C1)C(=O)N    Nicotinamide   \n",
       "2          0       99  C1=CC(=CN=C1)C(=O)N    Nicotinamide   \n",
       "3          1       39      C(CS)C(C(=O)O)N  L-Homocysteine   \n",
       "4          1       81      C(CS)C(C(=O)O)N  L-Homocysteine   \n",
       "\n",
       "                                      Amino_encoding      Kcat    unit  \\\n",
       "0  MESGFTSKDTYLSHFNPRDFLEKYYKFGSRHSAESQILKHLLKNLF... -1.387216  s^(-1)   \n",
       "1  MESGFTSKDTYLSHFNPRDYLEKYYKFGSRHSAESQILKHLLKNLF...  0.008600  s^(-1)   \n",
       "2  MESGFTSKDTYLSHFNPRDYLEKYYKFGSRHSAESQILKHLLKNLF... -1.080922  s^(-1)   \n",
       "3  MGLEKKSALLEDLIEKCGGCAVVDGGFATQLEIHGAAINDPLWSAV... -1.425969  s^(-1)   \n",
       "4  MSQNNPLRALLDKQDILLLDGAMATELEARGCNLADSLWSAKVLVE... -0.420216  s^(-1)   \n",
       "\n",
       "                                              smiles  \n",
       "0  <rdkit.Chem.rdchem.Mol object at 0x0000023643E...  \n",
       "1  <rdkit.Chem.rdchem.Mol object at 0x00000234A53...  \n",
       "2  <rdkit.Chem.rdchem.Mol object at 0x00000234A53...  \n",
       "3  <rdkit.Chem.rdchem.Mol object at 0x00000234A53...  \n",
       "4  <rdkit.Chem.rdchem.Mol object at 0x00000234A53...  "
      ]
     },
     "execution_count": 90,
     "metadata": {},
     "output_type": "execute_result"
    }
   ],
   "source": [
    "data.head()"
   ]
  },
  {
   "cell_type": "code",
   "execution_count": 21,
   "metadata": {},
   "outputs": [],
   "source": [
    "# Define the standard amino acids plus the padding character 'X'\n",
    "amino_acids = ['A', 'C', 'D', 'E', 'F', 'G', 'H', 'I', 'K', 'L', 'M', 'N', 'P', 'Q', 'R', 'S', 'T', 'V', 'W', 'Y', 'X']\n",
    "\n",
    "# Find the length of the longest sequence\n",
    "max_length = data['Amino_encoding'].str.len().max()\n",
    "\n",
    "# Function to pad the sequences\n",
    "def pad_sequence(seq, max_length):\n",
    "    return seq.ljust(max_length, 'X')\n",
    "\n",
    "# Apply padding to sequences\n",
    "data['padded_sequence'] = data['Amino_encoding'].apply(lambda x: pad_sequence(x, max_length))\n",
    "\n",
    "# One-hot encode the padded sequences\n",
    "def one_hot_encode(seq):\n",
    "    return [[1 if amino == aa else 0 for amino in amino_acids] for aa in seq]\n",
    "\n",
    "encoded_sequences = data['padded_sequence'].apply(one_hot_encode)\n",
    "\n",
    "# Convert the encoded sequences to a list of lists\n",
    "encoded_list = encoded_sequences.apply(lambda x: [item for sublist in x for item in sublist]).tolist()\n",
    "\n",
    "# Create a DataFrame from the flattened one-hot encoded list\n",
    "encoded_df = pd.DataFrame(encoded_list)\n",
    "\n",
    "# Rename columns for clarity\n",
    "encoded_df.columns = [f'Pos_{i+1}_{aa}' for i in range(max_length) for aa in amino_acids]\n"
   ]
  },
  {
   "cell_type": "code",
   "execution_count": 28,
   "metadata": {},
   "outputs": [
    {
     "data": {
      "text/plain": [
       "(4136, 52731)"
      ]
     },
     "execution_count": 28,
     "metadata": {},
     "output_type": "execute_result"
    }
   ],
   "source": [
    "encoded_df.shape"
   ]
  },
  {
   "cell_type": "code",
   "execution_count": 29,
   "metadata": {},
   "outputs": [
    {
     "data": {
      "image/png": "[encoded data removed]",
      "text/plain": [
       "<Figure size 1000x700 with 1 Axes>"
      ]
     },
     "metadata": {},
     "output_type": "display_data"
    }
   ],
   "source": [
    "from sklearn.decomposition import PCA\n",
    "import matplotlib.pyplot as plt\n",
    "\n",
    "# Create PCA object without limiting n_components\n",
    "pca = PCA()\n",
    "pca.fit(encoded_df)\n",
    "\n",
    "# Plotting\n",
    "plt.figure(figsize=(10, 7))\n",
    "plt.plot(np.cumsum(pca.explained_variance_ratio_), marker='o', linestyle='--')\n",
    "plt.xlabel('Number of Components')\n",
    "plt.ylabel('Cumulative Explained Variance')\n",
    "plt.title('Explained Variance by Components')\n",
    "plt.grid(True)\n",
    "plt.show()\n",
    "\n"
   ]
  },
  {
   "cell_type": "code",
   "execution_count": 31,
   "metadata": {},
   "outputs": [],
   "source": [
    "pca_95 = PCA(n_components=0.95)\n",
    "principalComponents_95 = pca_95.fit_transform(encoded_df)\n",
    "print(f\"Number of components to retain 95% variance: {pca_95.n_components_}\")"
   ]
  },
  {
   "cell_type": "code",
   "execution_count": 23,
   "metadata": {},
   "outputs": [],
   "source": [
    "encoded_df = pd.read_csv(\"C:\\\\Users\\Gilbert\\Documents\\BCB_Research\\Kcat_Benchmark_ML_Models\\Data\\encoded_amino.csv\")"
   ]
  },
  {
   "cell_type": "code",
   "execution_count": 24,
   "metadata": {},
   "outputs": [],
   "source": [
    "from sklearn.decomposition import PCA\n",
    "\n",
    "# Assuming encoded_df is your one-hot encoded data from before\n",
    "pca = PCA(n_components=433)\n",
    "principal_components = pca.fit_transform(encoded_df)\n",
    "\n",
    "# Convert to DataFrame for convenience\n",
    "pca_df = pd.DataFrame(data=principal_components)\n"
   ]
  },
  {
   "cell_type": "code",
   "execution_count": 93,
   "metadata": {},
   "outputs": [],
   "source": [
    "# lets add the SELFIES encoding into the result_df\n",
    "import selfies as sf\n",
    "\n",
    "# Define a function to convert SMILES to SELFIES\n",
    "def smiles_to_selfies(smiles_string):\n",
    "    try:\n",
    "        return sf.encoder(smiles_string)\n",
    "    except Exception as e:\n",
    "        print(f\"Error encoding {smiles_string}: {e}\")\n",
    "        return None\n",
    "\n",
    "# Apply the function to the \"Compound\" column\n",
    "data[\"Selfies\"] = data[\"Compound\"].apply(smiles_to_selfies)\n",
    "\n",
    "data[\"Selfies\"] = data[\"Selfies\"].str.replace('.', '[.]')"
   ]
  },
  {
   "cell_type": "code",
   "execution_count": 94,
   "metadata": {},
   "outputs": [
    {
     "data": {
      "text/html": [
       "<div>\n",
       "<style scoped>\n",
       "    .dataframe tbody tr th:only-of-type {\n",
       "        vertical-align: middle;\n",
       "    }\n",
       "\n",
       "    .dataframe tbody tr th {\n",
       "        vertical-align: top;\n",
       "    }\n",
       "\n",
       "    .dataframe thead th {\n",
       "        text-align: right;\n",
       "    }\n",
       "</style>\n",
       "<table border=\"1\" class=\"dataframe\">\n",
       "  <thead>\n",
       "    <tr style=\"text-align: right;\">\n",
       "      <th></th>\n",
       "      <th>EC_number</th>\n",
       "      <th>Species</th>\n",
       "      <th>Compound</th>\n",
       "      <th>Compound_name</th>\n",
       "      <th>Amino_encoding</th>\n",
       "      <th>Kcat</th>\n",
       "      <th>unit</th>\n",
       "      <th>smiles</th>\n",
       "      <th>Selfies</th>\n",
       "    </tr>\n",
       "  </thead>\n",
       "  <tbody>\n",
       "    <tr>\n",
       "      <th>0</th>\n",
       "      <td>0</td>\n",
       "      <td>99</td>\n",
       "      <td>C1=CC(=CN=C1)C(=O)N</td>\n",
       "      <td>Nicotinamide</td>\n",
       "      <td>MESGFTSKDTYLSHFNPRDFLEKYYKFGSRHSAESQILKHLLKNLF...</td>\n",
       "      <td>-1.387216</td>\n",
       "      <td>s^(-1)</td>\n",
       "      <td>&lt;rdkit.Chem.rdchem.Mol object at 0x0000023643E...</td>\n",
       "      <td>[C][=C][C][=Branch1][=Branch1][=C][N][=C][Ring...</td>\n",
       "    </tr>\n",
       "    <tr>\n",
       "      <th>1</th>\n",
       "      <td>0</td>\n",
       "      <td>99</td>\n",
       "      <td>C1=CC(=CN=C1)C(=O)N</td>\n",
       "      <td>Nicotinamide</td>\n",
       "      <td>MESGFTSKDTYLSHFNPRDYLEKYYKFGSRHSAESQILKHLLKNLF...</td>\n",
       "      <td>0.008600</td>\n",
       "      <td>s^(-1)</td>\n",
       "      <td>&lt;rdkit.Chem.rdchem.Mol object at 0x00000234A53...</td>\n",
       "      <td>[C][=C][C][=Branch1][=Branch1][=C][N][=C][Ring...</td>\n",
       "    </tr>\n",
       "    <tr>\n",
       "      <th>2</th>\n",
       "      <td>0</td>\n",
       "      <td>99</td>\n",
       "      <td>C1=CC(=CN=C1)C(=O)N</td>\n",
       "      <td>Nicotinamide</td>\n",
       "      <td>MESGFTSKDTYLSHFNPRDYLEKYYKFGSRHSAESQILKHLLKNLF...</td>\n",
       "      <td>-1.080922</td>\n",
       "      <td>s^(-1)</td>\n",
       "      <td>&lt;rdkit.Chem.rdchem.Mol object at 0x00000234A53...</td>\n",
       "      <td>[C][=C][C][=Branch1][=Branch1][=C][N][=C][Ring...</td>\n",
       "    </tr>\n",
       "    <tr>\n",
       "      <th>3</th>\n",
       "      <td>1</td>\n",
       "      <td>39</td>\n",
       "      <td>C(CS)C(C(=O)O)N</td>\n",
       "      <td>L-Homocysteine</td>\n",
       "      <td>MGLEKKSALLEDLIEKCGGCAVVDGGFATQLEIHGAAINDPLWSAV...</td>\n",
       "      <td>-1.425969</td>\n",
       "      <td>s^(-1)</td>\n",
       "      <td>&lt;rdkit.Chem.rdchem.Mol object at 0x00000234A53...</td>\n",
       "      <td>[C][Branch1][Ring1][C][S][C][Branch1][=Branch1...</td>\n",
       "    </tr>\n",
       "    <tr>\n",
       "      <th>4</th>\n",
       "      <td>1</td>\n",
       "      <td>81</td>\n",
       "      <td>C(CS)C(C(=O)O)N</td>\n",
       "      <td>L-Homocysteine</td>\n",
       "      <td>MSQNNPLRALLDKQDILLLDGAMATELEARGCNLADSLWSAKVLVE...</td>\n",
       "      <td>-0.420216</td>\n",
       "      <td>s^(-1)</td>\n",
       "      <td>&lt;rdkit.Chem.rdchem.Mol object at 0x00000234A53...</td>\n",
       "      <td>[C][Branch1][Ring1][C][S][C][Branch1][=Branch1...</td>\n",
       "    </tr>\n",
       "  </tbody>\n",
       "</table>\n",
       "</div>"
      ],
      "text/plain": [
       "   EC_number  Species             Compound   Compound_name  \\\n",
       "0          0       99  C1=CC(=CN=C1)C(=O)N    Nicotinamide   \n",
       "1          0       99  C1=CC(=CN=C1)C(=O)N    Nicotinamide   \n",
       "2          0       99  C1=CC(=CN=C1)C(=O)N    Nicotinamide   \n",
       "3          1       39      C(CS)C(C(=O)O)N  L-Homocysteine   \n",
       "4          1       81      C(CS)C(C(=O)O)N  L-Homocysteine   \n",
       "\n",
       "                                      Amino_encoding      Kcat    unit  \\\n",
       "0  MESGFTSKDTYLSHFNPRDFLEKYYKFGSRHSAESQILKHLLKNLF... -1.387216  s^(-1)   \n",
       "1  MESGFTSKDTYLSHFNPRDYLEKYYKFGSRHSAESQILKHLLKNLF...  0.008600  s^(-1)   \n",
       "2  MESGFTSKDTYLSHFNPRDYLEKYYKFGSRHSAESQILKHLLKNLF... -1.080922  s^(-1)   \n",
       "3  MGLEKKSALLEDLIEKCGGCAVVDGGFATQLEIHGAAINDPLWSAV... -1.425969  s^(-1)   \n",
       "4  MSQNNPLRALLDKQDILLLDGAMATELEARGCNLADSLWSAKVLVE... -0.420216  s^(-1)   \n",
       "\n",
       "                                              smiles  \\\n",
       "0  <rdkit.Chem.rdchem.Mol object at 0x0000023643E...   \n",
       "1  <rdkit.Chem.rdchem.Mol object at 0x00000234A53...   \n",
       "2  <rdkit.Chem.rdchem.Mol object at 0x00000234A53...   \n",
       "3  <rdkit.Chem.rdchem.Mol object at 0x00000234A53...   \n",
       "4  <rdkit.Chem.rdchem.Mol object at 0x00000234A53...   \n",
       "\n",
       "                                             Selfies  \n",
       "0  [C][=C][C][=Branch1][=Branch1][=C][N][=C][Ring...  \n",
       "1  [C][=C][C][=Branch1][=Branch1][=C][N][=C][Ring...  \n",
       "2  [C][=C][C][=Branch1][=Branch1][=C][N][=C][Ring...  \n",
       "3  [C][Branch1][Ring1][C][S][C][Branch1][=Branch1...  \n",
       "4  [C][Branch1][Ring1][C][S][C][Branch1][=Branch1...  "
      ]
     },
     "execution_count": 94,
     "metadata": {},
     "output_type": "execute_result"
    }
   ],
   "source": [
    "data.head()"
   ]
  },
  {
   "cell_type": "code",
   "execution_count": 96,
   "metadata": {},
   "outputs": [],
   "source": [
    "# let's encode the selfies string into one hot encoding.\n",
    "\n",
    "# Extract all unique symbols from the SELFIES\n",
    "def extract_symbols(selfies_string):\n",
    "    return sf.split_selfies(selfies_string)\n",
    "\n",
    "all_symbols = sorted(set(symbol for selfies in data[\"Selfies\"] for symbol in extract_symbols(selfies)))\n",
    "\n",
    "# One-Hot Encoding of the SELFIES strings\n",
    "def one_hot_selfies(selfies_string):\n",
    "    symbols = extract_symbols(selfies_string)\n",
    "    return [1 if symbol in symbols else 0 for symbol in all_symbols]\n",
    "\n",
    "# Creating a new DataFrame for one-hot encoded SELFIES\n",
    "one_hot_df = pd.DataFrame(data[\"Selfies\"].apply(one_hot_selfies).tolist(), columns=all_symbols)\n",
    "\n"
   ]
  },
  {
   "cell_type": "code",
   "execution_count": 114,
   "metadata": {},
   "outputs": [],
   "source": [
    "# Assuming encoded_df is your one-hot encoded data from before\n",
    "pca = PCA(n_components=5)\n",
    "principal_components = pca.fit_transform(one_hot_df)\n",
    "\n",
    "# Convert to DataFrame for convenience\n",
    "one_hot_df = pd.DataFrame(data=principal_components)"
   ]
  },
  {
   "cell_type": "code",
   "execution_count": 144,
   "metadata": {},
   "outputs": [],
   "source": [
    "# Assuming Data is your original dataframe\n",
    "result_df = pd.concat([data['EC_number']], axis=1)"
   ]
  },
  {
   "cell_type": "code",
   "execution_count": 145,
   "metadata": {},
   "outputs": [
    {
     "data": {
      "text/html": [
       "<div>\n",
       "<style scoped>\n",
       "    .dataframe tbody tr th:only-of-type {\n",
       "        vertical-align: middle;\n",
       "    }\n",
       "\n",
       "    .dataframe tbody tr th {\n",
       "        vertical-align: top;\n",
       "    }\n",
       "\n",
       "    .dataframe thead th {\n",
       "        text-align: right;\n",
       "    }\n",
       "</style>\n",
       "<table border=\"1\" class=\"dataframe\">\n",
       "  <thead>\n",
       "    <tr style=\"text-align: right;\">\n",
       "      <th></th>\n",
       "      <th>EC_number</th>\n",
       "    </tr>\n",
       "  </thead>\n",
       "  <tbody>\n",
       "    <tr>\n",
       "      <th>0</th>\n",
       "      <td>0</td>\n",
       "    </tr>\n",
       "    <tr>\n",
       "      <th>1</th>\n",
       "      <td>0</td>\n",
       "    </tr>\n",
       "    <tr>\n",
       "      <th>2</th>\n",
       "      <td>0</td>\n",
       "    </tr>\n",
       "    <tr>\n",
       "      <th>3</th>\n",
       "      <td>1</td>\n",
       "    </tr>\n",
       "    <tr>\n",
       "      <th>4</th>\n",
       "      <td>1</td>\n",
       "    </tr>\n",
       "  </tbody>\n",
       "</table>\n",
       "</div>"
      ],
      "text/plain": [
       "   EC_number\n",
       "0          0\n",
       "1          0\n",
       "2          0\n",
       "3          1\n",
       "4          1"
      ]
     },
     "execution_count": 145,
     "metadata": {},
     "output_type": "execute_result"
    }
   ],
   "source": [
    "result_df.head()"
   ]
  },
  {
   "cell_type": "code",
   "execution_count": 146,
   "metadata": {},
   "outputs": [],
   "source": [
    "result_df.columns = result_df.columns.astype(str)"
   ]
  },
  {
   "cell_type": "code",
   "execution_count": 147,
   "metadata": {},
   "outputs": [
    {
     "name": "stdout",
     "output_type": "stream",
     "text": [
      "Mean Squared Error: 2.471379879428115\n"
     ]
    }
   ],
   "source": [
    "from sklearn.svm import SVR\n",
    "from sklearn.model_selection import train_test_split\n",
    "from sklearn.metrics import mean_squared_error\n",
    "from sklearn.preprocessing import StandardScaler\n",
    "\n",
    "# Assuming data['Kcat'] is your target column\n",
    "X = result_df\n",
    "y = data['Kcat']\n",
    "\n",
    "# Split data\n",
    "X_train, X_test, y_train, y_test = train_test_split(X, y, test_size=0.2, random_state=42)\n",
    "\n",
    "scaler = StandardScaler()\n",
    "X_train_scaled = scaler.fit_transform(X_train)\n",
    "X_test_scaled = scaler.transform(X_test)\n",
    "\n",
    "# Create SVR model\n",
    "svr = SVR()\n",
    "\n",
    "# Train model\n",
    "svr.fit(X_train_scaled, y_train)\n",
    "\n",
    "# Predict Kcat values\n",
    "y_pred = svr.predict(X_test_scaled)\n",
    "\n",
    "# Evaluate model\n",
    "mse = mean_squared_error(y_test, y_pred)\n",
    "print(f\"Mean Squared Error: {mse}\")\n"
   ]
  },
  {
   "cell_type": "code",
   "execution_count": 148,
   "metadata": {},
   "outputs": [
    {
     "name": "stdout",
     "output_type": "stream",
     "text": [
      "Mean Absolute Error: 1.2526982556824084\n",
      "R-squared: 0.07061426136696891\n"
     ]
    }
   ],
   "source": [
    "from sklearn.metrics import mean_absolute_error, r2_score\n",
    "\n",
    "mae = mean_absolute_error(y_test, y_pred)\n",
    "r2 = r2_score(y_test, y_pred)\n",
    "\n",
    "print(f\"Mean Absolute Error: {mae}\")\n",
    "print(f\"R-squared: {r2}\")"
   ]
  },
  {
   "cell_type": "code",
   "execution_count": 149,
   "metadata": {},
   "outputs": [
    {
     "data": {
      "image/png": "[encoded data removed]",
      "text/plain": [
       "<Figure size 1000x600 with 1 Axes>"
      ]
     },
     "metadata": {},
     "output_type": "display_data"
    }
   ],
   "source": [
    "import matplotlib.pyplot as plt\n",
    "\n",
    "plt.figure(figsize=(10, 6))\n",
    "plt.scatter(y_test, y_pred, alpha=0.5)\n",
    "plt.plot([y_test.min(), y_test.max()], [y_test.min(), y_test.max()], 'k--', lw=2)\n",
    "plt.xlabel('True Values')\n",
    "plt.ylabel('Predicted Values')\n",
    "plt.title('True vs. Predicted Kcat Values')\n",
    "plt.grid(True)\n",
    "plt.show()"
   ]
  },
  {
   "cell_type": "code",
   "execution_count": 128,
   "metadata": {},
   "outputs": [
    {
     "name": "stdout",
     "output_type": "stream",
     "text": [
      "Mean MAE: 1.2678\n",
      "Standard Deviation of MAE: 0.1158\n"
     ]
    }
   ],
   "source": [
    "from sklearn.svm import SVR\n",
    "from sklearn.model_selection import cross_val_score\n",
    "\n",
    "# Create SVR model. You can adjust parameters as needed.\n",
    "svr_model = SVR(kernel='linear', C=300, gamma='auto', epsilon=0.1)\n",
    "\n",
    "# Choose number of folds; common choices are 5 or 10\n",
    "n_folds = 5\n",
    "\n",
    "# Cross validate\n",
    "scores = cross_val_score(svr_model, X, y, cv=n_folds, scoring='neg_mean_absolute_error')\n",
    "\n",
    "mae_scores = -scores\n",
    "\n",
    "print(f\"Mean MAE: {mae_scores.mean():.4f}\")\n",
    "print(f\"Standard Deviation of MAE: {mae_scores.std():.4f}\")"
   ]
  },
  {
   "cell_type": "code",
   "execution_count": 132,
   "metadata": {},
   "outputs": [
    {
     "name": "stdout",
     "output_type": "stream",
     "text": [
      "Fitting 5 folds for each of 18 candidates, totalling 90 fits\n"
     ]
    },
    {
     "data": {
      "text/html": [
       "<style>#sk-container-id-2 {color: black;}#sk-container-id-2 pre{padding: 0;}#sk-container-id-2 div.sk-toggleable {background-color: white;}#sk-container-id-2 label.sk-toggleable__label {cursor: pointer;display: block;width: 100%;margin-bottom: 0;padding: 0.3em;box-sizing: border-box;text-align: center;}#sk-container-id-2 label.sk-toggleable__label-arrow:before {content: \"▸\";float: left;margin-right: 0.25em;color: #696969;}#sk-container-id-2 label.sk-toggleable__label-arrow:hover:before {color: black;}#sk-container-id-2 div.sk-estimator:hover label.sk-toggleable__label-arrow:before {color: black;}#sk-container-id-2 div.sk-toggleable__content {max-height: 0;max-width: 0;overflow: hidden;text-align: left;background-color: #f0f8ff;}#sk-container-id-2 div.sk-toggleable__content pre {margin: 0.2em;color: black;border-radius: 0.25em;background-color: #f0f8ff;}#sk-container-id-2 input.sk-toggleable__control:checked~div.sk-toggleable__content {max-height: 200px;max-width: 100%;overflow: auto;}#sk-container-id-2 input.sk-toggleable__control:checked~label.sk-toggleable__label-arrow:before {content: \"▾\";}#sk-container-id-2 div.sk-estimator input.sk-toggleable__control:checked~label.sk-toggleable__label {background-color: #d4ebff;}#sk-container-id-2 div.sk-label input.sk-toggleable__control:checked~label.sk-toggleable__label {background-color: #d4ebff;}#sk-container-id-2 input.sk-hidden--visually {border: 0;clip: rect(1px 1px 1px 1px);clip: rect(1px, 1px, 1px, 1px);height: 1px;margin: -1px;overflow: hidden;padding: 0;position: absolute;width: 1px;}#sk-container-id-2 div.sk-estimator {font-family: monospace;background-color: #f0f8ff;border: 1px dotted black;border-radius: 0.25em;box-sizing: border-box;margin-bottom: 0.5em;}#sk-container-id-2 div.sk-estimator:hover {background-color: #d4ebff;}#sk-container-id-2 div.sk-parallel-item::after {content: \"\";width: 100%;border-bottom: 1px solid gray;flex-grow: 1;}#sk-container-id-2 div.sk-label:hover label.sk-toggleable__label {background-color: #d4ebff;}#sk-container-id-2 div.sk-serial::before {content: \"\";position: absolute;border-left: 1px solid gray;box-sizing: border-box;top: 0;bottom: 0;left: 50%;z-index: 0;}#sk-container-id-2 div.sk-serial {display: flex;flex-direction: column;align-items: center;background-color: white;padding-right: 0.2em;padding-left: 0.2em;position: relative;}#sk-container-id-2 div.sk-item {position: relative;z-index: 1;}#sk-container-id-2 div.sk-parallel {display: flex;align-items: stretch;justify-content: center;background-color: white;position: relative;}#sk-container-id-2 div.sk-item::before, #sk-container-id-2 div.sk-parallel-item::before {content: \"\";position: absolute;border-left: 1px solid gray;box-sizing: border-box;top: 0;bottom: 0;left: 50%;z-index: -1;}#sk-container-id-2 div.sk-parallel-item {display: flex;flex-direction: column;z-index: 1;position: relative;background-color: white;}#sk-container-id-2 div.sk-parallel-item:first-child::after {align-self: flex-end;width: 50%;}#sk-container-id-2 div.sk-parallel-item:last-child::after {align-self: flex-start;width: 50%;}#sk-container-id-2 div.sk-parallel-item:only-child::after {width: 0;}#sk-container-id-2 div.sk-dashed-wrapped {border: 1px dashed gray;margin: 0 0.4em 0.5em 0.4em;box-sizing: border-box;padding-bottom: 0.4em;background-color: white;}#sk-container-id-2 div.sk-label label {font-family: monospace;font-weight: bold;display: inline-block;line-height: 1.2em;}#sk-container-id-2 div.sk-label-container {text-align: center;}#sk-container-id-2 div.sk-container {/* jupyter's `normalize.less` sets `[hidden] { display: none; }` but bootstrap.min.css set `[hidden] { display: none !important; }` so we also need the `!important` here to be able to override the default hidden behavior on the sphinx rendered scikit-learn.org. See: https://github.com/scikit-learn/scikit-learn/issues/21755 */display: inline-block !important;position: relative;}#sk-container-id-2 div.sk-text-repr-fallback {display: none;}</style><div id=\"sk-container-id-2\" class=\"sk-top-container\"><div class=\"sk-text-repr-fallback\"><pre>GridSearchCV(cv=5, estimator=SVR(), n_jobs=-1,\n",
       "             param_grid={&#x27;C&#x27;: [100, 200, 300], &#x27;gamma&#x27;: [&#x27;auto&#x27;, &#x27;scale&#x27;],\n",
       "                         &#x27;kernel&#x27;: [&#x27;linear&#x27;, &#x27;rbf&#x27;, &#x27;poly&#x27;]},\n",
       "             scoring=&#x27;neg_mean_squared_error&#x27;, verbose=3)</pre><b>In a Jupyter environment, please rerun this cell to show the HTML representation or trust the notebook. <br />On GitHub, the HTML representation is unable to render, please try loading this page with nbviewer.org.</b></div><div class=\"sk-container\" hidden><div class=\"sk-item sk-dashed-wrapped\"><div class=\"sk-label-container\"><div class=\"sk-label sk-toggleable\"><input class=\"sk-toggleable__control sk-hidden--visually\" id=\"sk-estimator-id-4\" type=\"checkbox\" ><label for=\"sk-estimator-id-4\" class=\"sk-toggleable__label sk-toggleable__label-arrow\">GridSearchCV</label><div class=\"sk-toggleable__content\"><pre>GridSearchCV(cv=5, estimator=SVR(), n_jobs=-1,\n",
       "             param_grid={&#x27;C&#x27;: [100, 200, 300], &#x27;gamma&#x27;: [&#x27;auto&#x27;, &#x27;scale&#x27;],\n",
       "                         &#x27;kernel&#x27;: [&#x27;linear&#x27;, &#x27;rbf&#x27;, &#x27;poly&#x27;]},\n",
       "             scoring=&#x27;neg_mean_squared_error&#x27;, verbose=3)</pre></div></div></div><div class=\"sk-parallel\"><div class=\"sk-parallel-item\"><div class=\"sk-item\"><div class=\"sk-label-container\"><div class=\"sk-label sk-toggleable\"><input class=\"sk-toggleable__control sk-hidden--visually\" id=\"sk-estimator-id-5\" type=\"checkbox\" ><label for=\"sk-estimator-id-5\" class=\"sk-toggleable__label sk-toggleable__label-arrow\">estimator: SVR</label><div class=\"sk-toggleable__content\"><pre>SVR()</pre></div></div></div><div class=\"sk-serial\"><div class=\"sk-item\"><div class=\"sk-estimator sk-toggleable\"><input class=\"sk-toggleable__control sk-hidden--visually\" id=\"sk-estimator-id-6\" type=\"checkbox\" ><label for=\"sk-estimator-id-6\" class=\"sk-toggleable__label sk-toggleable__label-arrow\">SVR</label><div class=\"sk-toggleable__content\"><pre>SVR()</pre></div></div></div></div></div></div></div></div></div></div>"
      ],
      "text/plain": [
       "GridSearchCV(cv=5, estimator=SVR(), n_jobs=-1,\n",
       "             param_grid={'C': [100, 200, 300], 'gamma': ['auto', 'scale'],\n",
       "                         'kernel': ['linear', 'rbf', 'poly']},\n",
       "             scoring='neg_mean_squared_error', verbose=3)"
      ]
     },
     "execution_count": 132,
     "metadata": {},
     "output_type": "execute_result"
    }
   ],
   "source": [
    "from sklearn.model_selection import GridSearchCV\n",
    "from sklearn.svm import SVR\n",
    "from sklearn.datasets import make_regression\n",
    "from sklearn.model_selection import train_test_split\n",
    "\n",
    "X, y = make_regression(n_samples=1000, n_features=20, noise=0.1)\n",
    "X_train, X_test, y_train, y_test = train_test_split(X, y, test_size=0.2)\n",
    "\n",
    "model = SVR()\n",
    "\n",
    "param_grid = {\n",
    "    'C': [300, 400, 500],\n",
    "    'kernel': ['linear', 'rbf', 'poly'],\n",
    "    'gamma': ['auto', 'scale'],\n",
    "}\n",
    "\n",
    "grid_search = GridSearchCV(model, param_grid, cv=5, scoring='neg_mean_squared_error', verbose=3, n_jobs=-1)\n",
    "\n",
    "grid_search.fit(X_train, y_train)\n"
   ]
  },
  {
   "cell_type": "code",
   "execution_count": 133,
   "metadata": {},
   "outputs": [
    {
     "name": "stdout",
     "output_type": "stream",
     "text": [
      "{'C': 300, 'gamma': 'auto', 'kernel': 'linear'}\n"
     ]
    }
   ],
   "source": [
    "print(grid_search.best_params_)\n"
   ]
  },
  {
   "cell_type": "code",
   "execution_count": 137,
   "metadata": {},
   "outputs": [
    {
     "name": "stderr",
     "output_type": "stream",
     "text": [
      "c:\\Users\\Gilbert\\anaconda3\\envs\\bcb\\Lib\\site-packages\\sklearn\\base.py:457: UserWarning: X has feature names, but SVR was fitted without feature names\n",
      "  warnings.warn(\n"
     ]
    },
    {
     "ename": "ValueError",
     "evalue": "X has 438 features, but SVR is expecting 20 features as input.",
     "output_type": "error",
     "traceback": [
      "\u001b[1;31m---------------------------------------------------------------------------\u001b[0m",
      "\u001b[1;31mValueError\u001b[0m                                Traceback (most recent call last)",
      "Cell \u001b[1;32mIn[137], line 2\u001b[0m\n\u001b[0;32m      1\u001b[0m best_svr \u001b[39m=\u001b[39m grid_search\u001b[39m.\u001b[39mbest_estimator_\n\u001b[1;32m----> 2\u001b[0m predictions \u001b[39m=\u001b[39m best_svr\u001b[39m.\u001b[39;49mpredict(X_test)\n\u001b[0;32m      3\u001b[0m \u001b[39mprint\u001b[39m(predictions)\n",
      "File \u001b[1;32mc:\\Users\\Gilbert\\anaconda3\\envs\\bcb\\Lib\\site-packages\\sklearn\\svm\\_base.py:431\u001b[0m, in \u001b[0;36mBaseLibSVM.predict\u001b[1;34m(self, X)\u001b[0m\n\u001b[0;32m    415\u001b[0m \u001b[39mdef\u001b[39;00m \u001b[39mpredict\u001b[39m(\u001b[39mself\u001b[39m, X):\n\u001b[0;32m    416\u001b[0m \u001b[39m    \u001b[39m\u001b[39m\"\"\"Perform regression on samples in X.\u001b[39;00m\n\u001b[0;32m    417\u001b[0m \n\u001b[0;32m    418\u001b[0m \u001b[39m    For an one-class model, +1 (inlier) or -1 (outlier) is returned.\u001b[39;00m\n\u001b[1;32m   (...)\u001b[0m\n\u001b[0;32m    429\u001b[0m \u001b[39m        The predicted values.\u001b[39;00m\n\u001b[0;32m    430\u001b[0m \u001b[39m    \"\"\"\u001b[39;00m\n\u001b[1;32m--> 431\u001b[0m     X \u001b[39m=\u001b[39m \u001b[39mself\u001b[39;49m\u001b[39m.\u001b[39;49m_validate_for_predict(X)\n\u001b[0;32m    432\u001b[0m     predict \u001b[39m=\u001b[39m \u001b[39mself\u001b[39m\u001b[39m.\u001b[39m_sparse_predict \u001b[39mif\u001b[39;00m \u001b[39mself\u001b[39m\u001b[39m.\u001b[39m_sparse \u001b[39melse\u001b[39;00m \u001b[39mself\u001b[39m\u001b[39m.\u001b[39m_dense_predict\n\u001b[0;32m    433\u001b[0m     \u001b[39mreturn\u001b[39;00m predict(X)\n",
      "File \u001b[1;32mc:\\Users\\Gilbert\\anaconda3\\envs\\bcb\\Lib\\site-packages\\sklearn\\svm\\_base.py:611\u001b[0m, in \u001b[0;36mBaseLibSVM._validate_for_predict\u001b[1;34m(self, X)\u001b[0m\n\u001b[0;32m    608\u001b[0m check_is_fitted(\u001b[39mself\u001b[39m)\n\u001b[0;32m    610\u001b[0m \u001b[39mif\u001b[39;00m \u001b[39mnot\u001b[39;00m callable(\u001b[39mself\u001b[39m\u001b[39m.\u001b[39mkernel):\n\u001b[1;32m--> 611\u001b[0m     X \u001b[39m=\u001b[39m \u001b[39mself\u001b[39;49m\u001b[39m.\u001b[39;49m_validate_data(\n\u001b[0;32m    612\u001b[0m         X,\n\u001b[0;32m    613\u001b[0m         accept_sparse\u001b[39m=\u001b[39;49m\u001b[39m\"\u001b[39;49m\u001b[39mcsr\u001b[39;49m\u001b[39m\"\u001b[39;49m,\n\u001b[0;32m    614\u001b[0m         dtype\u001b[39m=\u001b[39;49mnp\u001b[39m.\u001b[39;49mfloat64,\n\u001b[0;32m    615\u001b[0m         order\u001b[39m=\u001b[39;49m\u001b[39m\"\u001b[39;49m\u001b[39mC\u001b[39;49m\u001b[39m\"\u001b[39;49m,\n\u001b[0;32m    616\u001b[0m         accept_large_sparse\u001b[39m=\u001b[39;49m\u001b[39mFalse\u001b[39;49;00m,\n\u001b[0;32m    617\u001b[0m         reset\u001b[39m=\u001b[39;49m\u001b[39mFalse\u001b[39;49;00m,\n\u001b[0;32m    618\u001b[0m     )\n\u001b[0;32m    620\u001b[0m \u001b[39mif\u001b[39;00m \u001b[39mself\u001b[39m\u001b[39m.\u001b[39m_sparse \u001b[39mand\u001b[39;00m \u001b[39mnot\u001b[39;00m sp\u001b[39m.\u001b[39misspmatrix(X):\n\u001b[0;32m    621\u001b[0m     X \u001b[39m=\u001b[39m sp\u001b[39m.\u001b[39mcsr_matrix(X)\n",
      "File \u001b[1;32mc:\\Users\\Gilbert\\anaconda3\\envs\\bcb\\Lib\\site-packages\\sklearn\\base.py:625\u001b[0m, in \u001b[0;36mBaseEstimator._validate_data\u001b[1;34m(self, X, y, reset, validate_separately, cast_to_ndarray, **check_params)\u001b[0m\n\u001b[0;32m    622\u001b[0m     out \u001b[39m=\u001b[39m X, y\n\u001b[0;32m    624\u001b[0m \u001b[39mif\u001b[39;00m \u001b[39mnot\u001b[39;00m no_val_X \u001b[39mand\u001b[39;00m check_params\u001b[39m.\u001b[39mget(\u001b[39m\"\u001b[39m\u001b[39mensure_2d\u001b[39m\u001b[39m\"\u001b[39m, \u001b[39mTrue\u001b[39;00m):\n\u001b[1;32m--> 625\u001b[0m     \u001b[39mself\u001b[39;49m\u001b[39m.\u001b[39;49m_check_n_features(X, reset\u001b[39m=\u001b[39;49mreset)\n\u001b[0;32m    627\u001b[0m \u001b[39mreturn\u001b[39;00m out\n",
      "File \u001b[1;32mc:\\Users\\Gilbert\\anaconda3\\envs\\bcb\\Lib\\site-packages\\sklearn\\base.py:414\u001b[0m, in \u001b[0;36mBaseEstimator._check_n_features\u001b[1;34m(self, X, reset)\u001b[0m\n\u001b[0;32m    411\u001b[0m     \u001b[39mreturn\u001b[39;00m\n\u001b[0;32m    413\u001b[0m \u001b[39mif\u001b[39;00m n_features \u001b[39m!=\u001b[39m \u001b[39mself\u001b[39m\u001b[39m.\u001b[39mn_features_in_:\n\u001b[1;32m--> 414\u001b[0m     \u001b[39mraise\u001b[39;00m \u001b[39mValueError\u001b[39;00m(\n\u001b[0;32m    415\u001b[0m         \u001b[39mf\u001b[39m\u001b[39m\"\u001b[39m\u001b[39mX has \u001b[39m\u001b[39m{\u001b[39;00mn_features\u001b[39m}\u001b[39;00m\u001b[39m features, but \u001b[39m\u001b[39m{\u001b[39;00m\u001b[39mself\u001b[39m\u001b[39m.\u001b[39m\u001b[39m__class__\u001b[39m\u001b[39m.\u001b[39m\u001b[39m__name__\u001b[39m\u001b[39m}\u001b[39;00m\u001b[39m \u001b[39m\u001b[39m\"\u001b[39m\n\u001b[0;32m    416\u001b[0m         \u001b[39mf\u001b[39m\u001b[39m\"\u001b[39m\u001b[39mis expecting \u001b[39m\u001b[39m{\u001b[39;00m\u001b[39mself\u001b[39m\u001b[39m.\u001b[39mn_features_in_\u001b[39m}\u001b[39;00m\u001b[39m features as input.\u001b[39m\u001b[39m\"\u001b[39m\n\u001b[0;32m    417\u001b[0m     )\n",
      "\u001b[1;31mValueError\u001b[0m: X has 438 features, but SVR is expecting 20 features as input."
     ]
    }
   ],
   "source": [
    "best_svr = grid_search.best_estimator_\n",
    "predictions = best_svr.predict(X_test)"
   ]
  },
  {
   "cell_type": "code",
   "execution_count": null,
   "metadata": {},
   "outputs": [],
   "source": []
  }
 ],
 "metadata": {
  "kernelspec": {
   "display_name": "bcb",
   "language": "python",
   "name": "python3"
  },
  "language_info": {
   "codemirror_mode": {
    "name": "ipython",
    "version": 3
   },
   "file_extension": ".py",
   "mimetype": "text/x-python",
   "name": "python",
   "nbconvert_exporter": "python",
   "pygments_lexer": "ipython3",
   "version": "3.11.4"
  },
  "orig_nbformat": 4
 },
 "nbformat": 4,
 "nbformat_minor": 2
}
