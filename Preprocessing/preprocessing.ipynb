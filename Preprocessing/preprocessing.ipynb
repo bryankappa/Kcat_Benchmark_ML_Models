{
 "cells": [
  {
   "cell_type": "code",
   "execution_count": 1,
   "metadata": {},
   "outputs": [],
   "source": [
    "import numpy as np\n",
    "import pandas as pd\n",
    "from sklearn.ensemble import RandomForestRegressor\n",
    "from sklearn.metrics import mean_squared_error, mean_absolute_error, r2_score\n",
    "from sklearn.preprocessing import LabelEncoder, OneHotEncoder, MinMaxScaler\n",
    "from sklearn.model_selection import train_test_split\n",
    "from sklearn.decomposition import PCA\n",
    "from rdkit import Chem\n",
    "from rdkit.Chem import AllChem, Descriptors\n",
    "import os\n",
    "os.chdir(\"..\")\n",
    "os.chdir(\"Preprocessing\")\n",
    "from preprocessing import *\n",
    "import selfies as sf\n",
    "\n",
    "#Ensemble learning and random forest\n",
    "\n",
    "df = preprocessing(\"C:\\\\Users\\Gilbert\\Documents\\BCB_Research\\Kcat_Benchmark_ML_Models\\Data\\kcat_transferase.csv\")\n",
    "encoded_df = pd.read_csv(\"C:\\\\Users\\Gilbert\\Documents\\BCB_Research\\Kcat_Benchmark_ML_Models\\Data\\encoded_amino.csv\")"
   ]
  },
  {
   "cell_type": "code",
   "execution_count": 12,
   "metadata": {},
   "outputs": [
    {
     "data": {
      "image/png": "[encoded data removed]",
      "text/plain": [
       "<Figure size 640x480 with 1 Axes>"
      ]
     },
     "metadata": {},
     "output_type": "display_data"
    }
   ],
   "source": [
    "import matplotlib.pyplot as plt\n",
    "\n",
    "# Boxplot\n",
    "plt.boxplot(df[\"Kcat\"])\n",
    "plt.title(\"Boxplot\")\n",
    "plt.show()"
   ]
  },
  {
   "cell_type": "code",
   "execution_count": 13,
   "metadata": {},
   "outputs": [],
   "source": [
    "import numpy as np\n",
    "from scipy import stats\n",
    "\n",
    "z_scores = np.abs(stats.zscore(df[\"Kcat\"]))\n",
    "outliers = np.where(z_scores > 3)"
   ]
  },
  {
   "cell_type": "code",
   "execution_count": 17,
   "metadata": {},
   "outputs": [
    {
     "name": "stdout",
     "output_type": "stream",
     "text": [
      "(array([ 455,  490,  491,  492,  493,  494,  550,  557,  558,  559,  560,\n",
      "        561,  562,  563,  568,  569,  662,  738,  747,  748,  749,  750,\n",
      "        753,  810,  811,  915,  918,  920,  921,  923,  925,  926,  927,\n",
      "        928,  929,  930,  931,  933,  934,  935,  936,  937,  943,  944,\n",
      "        945,  946,  947,  948,  949,  950,  951, 1009, 1109, 1112, 1113,\n",
      "       1160, 1181, 1187, 1210, 1212, 1213, 1214, 1215, 1216, 1217, 1837,\n",
      "       1845, 1894, 1895, 1896, 1911, 1914, 1918, 2124, 2125, 2126, 2127,\n",
      "       2128, 2129, 2130, 2131, 2132, 2133, 2134, 2135, 2136, 2137, 2138,\n",
      "       2139, 2140, 2141, 2142, 2143, 2248, 2252, 2304, 2305, 2306, 2314,\n",
      "       2428, 2429, 2430, 2431, 2469, 2470, 2471, 2472, 2481, 2483, 2485,\n",
      "       2531, 2532, 2533, 2574, 2576, 2577, 2580, 2581, 2748, 2877, 2989,\n",
      "       2991, 2992, 3163, 3174, 3184, 3249, 3251, 3252, 3253, 3254, 3255,\n",
      "       3256, 3257, 3258, 3259, 3260, 3261, 3262, 3263, 3264, 3265, 3266,\n",
      "       3267, 3268, 3269, 3270, 3271, 3272, 3274, 3278, 3279, 3280, 3281,\n",
      "       3282, 3283, 3284, 3285, 3286, 3287, 3288, 3289, 3290, 3312, 3313,\n",
      "       3316, 3318, 3319, 3322, 3327, 3328, 3329, 3332, 3333, 3334, 3335,\n",
      "       3336, 3341, 3349, 3384, 3385, 3387, 3442, 3506, 3527, 3528, 3529,\n",
      "       3536, 3595, 3609, 3610, 3611, 3621, 3627, 3629, 3638, 3700, 3705,\n",
      "       3706, 3851, 3852, 3853, 3855, 4061, 4111, 4134, 4135], dtype=int64),)\n"
     ]
    }
   ],
   "source": [
    "from sklearn.ensemble import IsolationForest\n",
    "\n",
    "clf = IsolationForest(contamination=0.05)  # Adjust contamination parameter based on expected ratio of outliers\n",
    "predictions = clf.fit_predict(df[\"Kcat\"].values.reshape(-1, 1))\n",
    "outliers = np.where(predictions == -1)\n",
    "\n",
    "print(outliers)"
   ]
  },
  {
   "cell_type": "code",
   "execution_count": null,
   "metadata": {},
   "outputs": [],
   "source": [
    "#Amino Acid one hot encoding + PCA \n",
    "\n",
    "# # Define the standard amino acids plus the padding character 'X'\n",
    "# amino_acids = ['A', 'C', 'D', 'E', 'F', 'G', 'H', 'I', 'K', 'L', 'M', 'N', 'P', 'Q', 'R', 'S', 'T', 'V', 'W', 'Y', 'X']\n",
    "\n",
    "# # Find the length of the longest sequence\n",
    "# max_length = data['Amino_encoding'].str.len().max()\n",
    "\n",
    "# # Function to pad the sequences\n",
    "# def pad_sequence(seq, max_length):\n",
    "#     return seq.ljust(max_length, 'X')\n",
    "\n",
    "# # Apply padding to sequences\n",
    "# data['padded_sequence'] = data['Amino_encoding'].apply(lambda x: pad_sequence(x, max_length))\n",
    "\n",
    "# # One-hot encode the padded sequences\n",
    "# def one_hot_encode(seq):\n",
    "#     return [[1 if amino == aa else 0 for amino in amino_acids] for aa in seq]\n",
    "\n",
    "# encoded_sequences = data['padded_sequence'].apply(one_hot_encode)\n",
    "\n",
    "# # Convert the encoded sequences to a list of lists\n",
    "# encoded_list = encoded_sequences.apply(lambda x: [item for sublist in x for item in sublist]).tolist()\n",
    "\n",
    "# # Create a DataFrame from the flattened one-hot encoded list\n",
    "# encoded_df = pd.DataFrame(encoded_list)\n",
    "\n",
    "# # Rename columns for clarity\n",
    "# encoded_df.columns = [f'Pos_{i+1}_{aa}' for i in range(max_length) for aa in amino_acids]\n",
    "\n",
    "# Assuming encoded_df is your one-hot encoded data from before\n",
    "amino_pca = PCA(n_components=433) # to find 433 was to run PCA to find the optimal number of Amino acids\n",
    "principal_components = amino_pca.fit_transform(encoded_df)\n",
    "\n",
    "# Convert to DataFrame for convenience\n",
    "amino_pca_df = pd.DataFrame(data=principal_components)"
   ]
  },
  {
   "cell_type": "code",
   "execution_count": null,
   "metadata": {},
   "outputs": [],
   "source": [
    "#EC conversion into PCA\n",
    "\n",
    "Ec_data = pd.get_dummies(data[\"EC_number\"], prefix=[\"EC\"])\n",
    "Ec_df = pd.DataFrame(Ec_data).astype(int)\n",
    "ec_pca = PCA(n_components=280)\n",
    "ec_principal_components = ec_pca.fit_transform(Ec_df)\n",
    "\n",
    "# Convert to DataFrame for convenience\n",
    "Ec_df = pd.DataFrame(data=ec_principal_components)"
   ]
  },
  {
   "cell_type": "code",
   "execution_count": null,
   "metadata": {},
   "outputs": [],
   "source": []
  }
 ],
 "metadata": {
  "kernelspec": {
   "display_name": "bcb",
   "language": "python",
   "name": "python3"
  },
  "language_info": {
   "codemirror_mode": {
    "name": "ipython",
    "version": 3
   },
   "file_extension": ".py",
   "mimetype": "text/x-python",
   "name": "python",
   "nbconvert_exporter": "python",
   "pygments_lexer": "ipython3",
   "version": "3.11.4"
  },
  "orig_nbformat": 4
 },
 "nbformat": 4,
 "nbformat_minor": 2
}
