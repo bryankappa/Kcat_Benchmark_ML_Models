{
  "cells": [
    {
      "cell_type": "code",
      "execution_count": null,
      "metadata": {
        "colab": {
          "base_uri": "https://localhost:8080/"
        },
        "id": "PmXM90UsGEWZ",
        "outputId": "70868689-6488-4f3a-9710-b12de2ab12c6"
      },
      "outputs": [],
      "source": []
    },
    {
      "cell_type": "code",
      "execution_count": 1,
      "metadata": {
        "id": "gmIL_C3NG9ha"
      },
      "outputs": [],
      "source": [
        "import pandas as pd\n",
        "\n",
        "def preprocessing(csv_file_path):\n",
        "    data = pd.read_csv(csv_file_path)\n",
        "    data.columns = [\"EC_number\", \"Species\", \"smiles\", \"Compound_name\", \"Amino_encoding\", \"Kcat\", \"unit\"]\n",
        "    data = pd.DataFrame(data)\n",
        "    return data\n",
        "\n",
        "data = preprocessing(\"C:\\\\Users\\Gilbert\\Documents\\BCB_Research\\Kcat_Benchmark_ML_Models\\Data\\kcat_transferase.csv\")\n",
        "onehot_encoded_smiles = pd.read_csv(\"C:\\\\Users\\Gilbert\\Documents\\BCB_Research\\Kcat_Benchmark_ML_Models\\Data\\encoded_amino.csv\")"
      ]
    },
    {
      "cell_type": "code",
      "execution_count": 2,
      "metadata": {
        "id": "8a-XI9C-HAKZ"
      },
      "outputs": [],
      "source": [
        "from sklearn.decomposition import PCA\n",
        "\n",
        "\n",
        "amino_pca = PCA(n_components=433) # 433 was the optimal number of components for 95% confidence.\n",
        "principal_components = amino_pca.fit_transform(onehot_encoded_smiles)\n",
        "\n",
        "# Convert to DataFrame for convenience\n",
        "amino_pca_df = pd.DataFrame(data=principal_components)"
      ]
    },
    {
      "cell_type": "code",
      "execution_count": 3,
      "metadata": {
        "id": "sdrCdWNIr3Ff"
      },
      "outputs": [],
      "source": [
        "import numpy as np\n",
        "\n",
        "X = amino_pca_df\n",
        "y = np.log10(data[\"Kcat\"])\n"
      ]
    },
    {
      "cell_type": "code",
      "execution_count": 4,
      "metadata": {},
      "outputs": [
        {
          "name": "stdout",
          "output_type": "stream",
          "text": [
            "0      -1.387216\n",
            "1       0.008600\n",
            "2      -1.080922\n",
            "3      -1.425969\n",
            "4      -0.420216\n",
            "          ...   \n",
            "4131    1.113943\n",
            "4132    1.571709\n",
            "4133    1.992554\n",
            "4134    2.912063\n",
            "4135    3.096910\n",
            "Name: Kcat, Length: 4136, dtype: float64\n"
          ]
        }
      ],
      "source": [
        "print(y)"
      ]
    },
    {
      "cell_type": "code",
      "execution_count": 5,
      "metadata": {},
      "outputs": [
        {
          "data": {
            "text/html": [
              "<div>\n",
              "<style scoped>\n",
              "    .dataframe tbody tr th:only-of-type {\n",
              "        vertical-align: middle;\n",
              "    }\n",
              "\n",
              "    .dataframe tbody tr th {\n",
              "        vertical-align: top;\n",
              "    }\n",
              "\n",
              "    .dataframe thead th {\n",
              "        text-align: right;\n",
              "    }\n",
              "</style>\n",
              "<table border=\"1\" class=\"dataframe\">\n",
              "  <thead>\n",
              "    <tr style=\"text-align: right;\">\n",
              "      <th></th>\n",
              "      <th>0</th>\n",
              "      <th>1</th>\n",
              "      <th>2</th>\n",
              "      <th>3</th>\n",
              "      <th>4</th>\n",
              "      <th>5</th>\n",
              "      <th>6</th>\n",
              "      <th>7</th>\n",
              "      <th>8</th>\n",
              "      <th>9</th>\n",
              "      <th>...</th>\n",
              "      <th>423</th>\n",
              "      <th>424</th>\n",
              "      <th>425</th>\n",
              "      <th>426</th>\n",
              "      <th>427</th>\n",
              "      <th>428</th>\n",
              "      <th>429</th>\n",
              "      <th>430</th>\n",
              "      <th>431</th>\n",
              "      <th>432</th>\n",
              "    </tr>\n",
              "  </thead>\n",
              "  <tbody>\n",
              "    <tr>\n",
              "      <th>0</th>\n",
              "      <td>-6.260814</td>\n",
              "      <td>3.233607</td>\n",
              "      <td>-0.939699</td>\n",
              "      <td>-0.671007</td>\n",
              "      <td>-1.072594</td>\n",
              "      <td>-0.166186</td>\n",
              "      <td>0.093936</td>\n",
              "      <td>0.350908</td>\n",
              "      <td>0.706539</td>\n",
              "      <td>0.184849</td>\n",
              "      <td>...</td>\n",
              "      <td>0.480703</td>\n",
              "      <td>-0.536663</td>\n",
              "      <td>0.047966</td>\n",
              "      <td>0.238318</td>\n",
              "      <td>-0.217352</td>\n",
              "      <td>-1.229150</td>\n",
              "      <td>-0.444917</td>\n",
              "      <td>0.133830</td>\n",
              "      <td>-0.356298</td>\n",
              "      <td>-0.536651</td>\n",
              "    </tr>\n",
              "    <tr>\n",
              "      <th>1</th>\n",
              "      <td>-6.252592</td>\n",
              "      <td>3.232955</td>\n",
              "      <td>-0.952134</td>\n",
              "      <td>-0.687594</td>\n",
              "      <td>-1.056070</td>\n",
              "      <td>-0.151328</td>\n",
              "      <td>0.075121</td>\n",
              "      <td>0.344627</td>\n",
              "      <td>0.717727</td>\n",
              "      <td>0.185152</td>\n",
              "      <td>...</td>\n",
              "      <td>0.480680</td>\n",
              "      <td>-0.520282</td>\n",
              "      <td>0.069144</td>\n",
              "      <td>0.239957</td>\n",
              "      <td>-0.219337</td>\n",
              "      <td>-1.219913</td>\n",
              "      <td>-0.459986</td>\n",
              "      <td>0.148899</td>\n",
              "      <td>-0.334828</td>\n",
              "      <td>-0.537340</td>\n",
              "    </tr>\n",
              "    <tr>\n",
              "      <th>2</th>\n",
              "      <td>-6.247061</td>\n",
              "      <td>3.218509</td>\n",
              "      <td>-0.943114</td>\n",
              "      <td>-0.686935</td>\n",
              "      <td>-1.059343</td>\n",
              "      <td>-0.115982</td>\n",
              "      <td>0.097260</td>\n",
              "      <td>0.372542</td>\n",
              "      <td>0.735333</td>\n",
              "      <td>0.197906</td>\n",
              "      <td>...</td>\n",
              "      <td>0.484191</td>\n",
              "      <td>-0.481170</td>\n",
              "      <td>0.074250</td>\n",
              "      <td>0.248928</td>\n",
              "      <td>-0.286207</td>\n",
              "      <td>-1.258387</td>\n",
              "      <td>-0.464992</td>\n",
              "      <td>0.223261</td>\n",
              "      <td>-0.308734</td>\n",
              "      <td>-0.523618</td>\n",
              "    </tr>\n",
              "    <tr>\n",
              "      <th>3</th>\n",
              "      <td>-3.800123</td>\n",
              "      <td>-0.259436</td>\n",
              "      <td>0.613383</td>\n",
              "      <td>0.559863</td>\n",
              "      <td>0.904566</td>\n",
              "      <td>0.694478</td>\n",
              "      <td>-2.001746</td>\n",
              "      <td>1.991927</td>\n",
              "      <td>1.078039</td>\n",
              "      <td>0.257786</td>\n",
              "      <td>...</td>\n",
              "      <td>-0.316104</td>\n",
              "      <td>-0.366808</td>\n",
              "      <td>-0.997006</td>\n",
              "      <td>-0.329883</td>\n",
              "      <td>0.698332</td>\n",
              "      <td>0.488171</td>\n",
              "      <td>0.135597</td>\n",
              "      <td>-0.367099</td>\n",
              "      <td>-0.195289</td>\n",
              "      <td>0.075643</td>\n",
              "    </tr>\n",
              "    <tr>\n",
              "      <th>4</th>\n",
              "      <td>-4.529573</td>\n",
              "      <td>0.860604</td>\n",
              "      <td>0.132385</td>\n",
              "      <td>0.345013</td>\n",
              "      <td>0.960916</td>\n",
              "      <td>0.297965</td>\n",
              "      <td>-1.657127</td>\n",
              "      <td>1.547796</td>\n",
              "      <td>1.209693</td>\n",
              "      <td>0.185218</td>\n",
              "      <td>...</td>\n",
              "      <td>0.918170</td>\n",
              "      <td>-1.711390</td>\n",
              "      <td>-0.085016</td>\n",
              "      <td>0.450483</td>\n",
              "      <td>-0.601196</td>\n",
              "      <td>-0.788955</td>\n",
              "      <td>0.793306</td>\n",
              "      <td>0.836836</td>\n",
              "      <td>1.014473</td>\n",
              "      <td>0.252989</td>\n",
              "    </tr>\n",
              "  </tbody>\n",
              "</table>\n",
              "<p>5 rows × 433 columns</p>\n",
              "</div>"
            ],
            "text/plain": [
              "        0         1         2         3         4         5         6    \\\n",
              "0 -6.260814  3.233607 -0.939699 -0.671007 -1.072594 -0.166186  0.093936   \n",
              "1 -6.252592  3.232955 -0.952134 -0.687594 -1.056070 -0.151328  0.075121   \n",
              "2 -6.247061  3.218509 -0.943114 -0.686935 -1.059343 -0.115982  0.097260   \n",
              "3 -3.800123 -0.259436  0.613383  0.559863  0.904566  0.694478 -2.001746   \n",
              "4 -4.529573  0.860604  0.132385  0.345013  0.960916  0.297965 -1.657127   \n",
              "\n",
              "        7         8         9    ...       423       424       425       426  \\\n",
              "0  0.350908  0.706539  0.184849  ...  0.480703 -0.536663  0.047966  0.238318   \n",
              "1  0.344627  0.717727  0.185152  ...  0.480680 -0.520282  0.069144  0.239957   \n",
              "2  0.372542  0.735333  0.197906  ...  0.484191 -0.481170  0.074250  0.248928   \n",
              "3  1.991927  1.078039  0.257786  ... -0.316104 -0.366808 -0.997006 -0.329883   \n",
              "4  1.547796  1.209693  0.185218  ...  0.918170 -1.711390 -0.085016  0.450483   \n",
              "\n",
              "        427       428       429       430       431       432  \n",
              "0 -0.217352 -1.229150 -0.444917  0.133830 -0.356298 -0.536651  \n",
              "1 -0.219337 -1.219913 -0.459986  0.148899 -0.334828 -0.537340  \n",
              "2 -0.286207 -1.258387 -0.464992  0.223261 -0.308734 -0.523618  \n",
              "3  0.698332  0.488171  0.135597 -0.367099 -0.195289  0.075643  \n",
              "4 -0.601196 -0.788955  0.793306  0.836836  1.014473  0.252989  \n",
              "\n",
              "[5 rows x 433 columns]"
            ]
          },
          "execution_count": 5,
          "metadata": {},
          "output_type": "execute_result"
        }
      ],
      "source": [
        "amino_pca_df.head()"
      ]
    },
    {
      "cell_type": "code",
      "execution_count": 6,
      "metadata": {
        "id": "kP861A65r1rl"
      },
      "outputs": [],
      "source": [
        "from sklearn.model_selection import train_test_split\n",
        "\n",
        "# Assuming X is your amino encoding data and y is the kcat values\n",
        "X_train, X_temp, y_train, y_temp = train_test_split(X, y, test_size=0.2, random_state=2)  # 80% train, 20% temp\n",
        "\n",
        "# Split the remaining 20% (X_temp, y_temp) into validation and test sets\n",
        "X_val, X_test, y_val, y_test = train_test_split(X_temp, y_temp, test_size=0.5, random_state=2)  # 10% validation, 10% test\n"
      ]
    },
    {
      "cell_type": "code",
      "execution_count": 27,
      "metadata": {
        "colab": {
          "base_uri": "https://localhost:8080/"
        },
        "id": "h-ZbU3PdHGO5",
        "outputId": "13364ba2-1124-40f4-d7ec-8934fe34f47f"
      },
      "outputs": [
        {
          "name": "stdout",
          "output_type": "stream",
          "text": [
            "Epoch 1/30\n",
            "104/104 [==============================] - 2s 8ms/step - loss: 6.4263 - val_loss: 4.5121\n",
            "Epoch 2/30\n",
            "104/104 [==============================] - 0s 4ms/step - loss: 4.7276 - val_loss: 4.1301\n",
            "Epoch 3/30\n",
            "104/104 [==============================] - 0s 3ms/step - loss: 4.1407 - val_loss: 3.7573\n",
            "Epoch 4/30\n",
            "104/104 [==============================] - 0s 3ms/step - loss: 3.7368 - val_loss: 3.4544\n",
            "Epoch 5/30\n",
            "104/104 [==============================] - 0s 4ms/step - loss: 3.4206 - val_loss: 3.2362\n",
            "Epoch 6/30\n",
            "104/104 [==============================] - 1s 8ms/step - loss: 3.1083 - val_loss: 2.9593\n",
            "Epoch 7/30\n",
            "104/104 [==============================] - 1s 8ms/step - loss: 2.9020 - val_loss: 2.7681\n",
            "Epoch 8/30\n",
            "104/104 [==============================] - 0s 3ms/step - loss: 2.6571 - val_loss: 2.5915\n",
            "Epoch 9/30\n",
            "104/104 [==============================] - 0s 3ms/step - loss: 2.5289 - val_loss: 2.4543\n",
            "Epoch 10/30\n",
            "104/104 [==============================] - 0s 3ms/step - loss: 2.3680 - val_loss: 2.2752\n",
            "Epoch 11/30\n",
            "104/104 [==============================] - 1s 5ms/step - loss: 2.1971 - val_loss: 2.1392\n",
            "Epoch 12/30\n",
            "104/104 [==============================] - 1s 8ms/step - loss: 2.0854 - val_loss: 2.0742\n",
            "Epoch 13/30\n",
            "104/104 [==============================] - 1s 8ms/step - loss: 1.9945 - val_loss: 1.9730\n",
            "Epoch 14/30\n",
            "104/104 [==============================] - 1s 8ms/step - loss: 1.9038 - val_loss: 1.9066\n",
            "Epoch 15/30\n",
            "104/104 [==============================] - 1s 8ms/step - loss: 1.8044 - val_loss: 1.8095\n",
            "Epoch 16/30\n",
            "104/104 [==============================] - 1s 8ms/step - loss: 1.7667 - val_loss: 1.7695\n",
            "Epoch 17/30\n",
            "104/104 [==============================] - 0s 4ms/step - loss: 1.6644 - val_loss: 1.6726\n",
            "Epoch 18/30\n",
            "104/104 [==============================] - 0s 5ms/step - loss: 1.6302 - val_loss: 1.6696\n",
            "Epoch 19/30\n",
            "104/104 [==============================] - 0s 3ms/step - loss: 1.5732 - val_loss: 1.6689\n",
            "Epoch 20/30\n",
            "104/104 [==============================] - 0s 3ms/step - loss: 1.5556 - val_loss: 1.6088\n",
            "Epoch 21/30\n",
            "104/104 [==============================] - 0s 4ms/step - loss: 1.5103 - val_loss: 1.5796\n",
            "Epoch 22/30\n",
            "104/104 [==============================] - 1s 7ms/step - loss: 1.4662 - val_loss: 1.5987\n",
            "Epoch 23/30\n",
            "104/104 [==============================] - 1s 7ms/step - loss: 1.4579 - val_loss: 1.5492\n",
            "Epoch 24/30\n",
            "104/104 [==============================] - 1s 6ms/step - loss: 1.4261 - val_loss: 1.5232\n",
            "Epoch 25/30\n",
            "104/104 [==============================] - 1s 8ms/step - loss: 1.4244 - val_loss: 1.4985\n",
            "Epoch 26/30\n",
            "104/104 [==============================] - 1s 8ms/step - loss: 1.3944 - val_loss: 1.4734\n",
            "Epoch 27/30\n",
            "104/104 [==============================] - 1s 8ms/step - loss: 1.3594 - val_loss: 1.4665\n",
            "Epoch 28/30\n",
            "104/104 [==============================] - 1s 8ms/step - loss: 1.3416 - val_loss: 1.4382\n",
            "Epoch 29/30\n",
            "104/104 [==============================] - 1s 8ms/step - loss: 1.3428 - val_loss: 1.4481\n",
            "Epoch 30/30\n",
            "104/104 [==============================] - 1s 8ms/step - loss: 1.3335 - val_loss: 1.4707\n"
          ]
        }
      ],
      "source": [
        "from tensorflow.keras.models import Sequential\n",
        "from tensorflow.keras.layers import Dense\n",
        "from tensorflow.keras.regularizers import l2\n",
        "from tensorflow.keras.layers import Dropout\n",
        "\n",
        "# Define input dimension\n",
        "input_dim = X_train.shape[1]\n",
        "\n",
        "model_nn = Sequential()\n",
        "model_nn.add(Dense(128, activation='relu', kernel_regularizer=l2(0.01), input_shape=(input_dim,)))\n",
        "model_nn.add(Dropout(0.5))\n",
        "model_nn.add(Dense(64, activation='relu', kernel_regularizer=l2(0.01)))\n",
        "model_nn.add(Dropout(0.5))\n",
        "model_nn.add(Dense(1))\n",
        "# Compile the model\n",
        "model_nn.compile(optimizer='adam', loss='mse')\n",
        "\n",
        "# Train the model\n",
        "model_nn.fit(X_train, y_train, epochs=30, batch_size=32, validation_data=(X_val, y_val))\n"
      ]
    },
    {
      "cell_type": "code",
      "execution_count": 28,
      "metadata": {},
      "outputs": [
        {
          "data": {
            "image/png": "[encoded data removed]",
            "text/plain": [
              "<Figure size 640x480 with 1 Axes>"
            ]
          },
          "metadata": {},
          "output_type": "display_data"
        }
      ],
      "source": [
        "import matplotlib.pyplot as plt\n",
        "\n",
        "plt.plot(model_nn.history['loss'])\n",
        "plt.plot(model_nn.history['val_loss'])\n",
        "plt.title('Model loss')\n",
        "plt.ylabel('Loss')\n",
        "plt.xlabel('Epoch')\n",
        "plt.legend(['Train', 'Validation'], loc='upper left')\n",
        "plt.show()"
      ]
    },
    {
      "cell_type": "code",
      "execution_count": null,
      "metadata": {
        "id": "yfz5haYrB1HH"
      },
      "outputs": [],
      "source": []
    },
    {
      "cell_type": "code",
      "execution_count": 29,
      "metadata": {
        "colab": {
          "base_uri": "https://localhost:8080/"
        },
        "id": "h1BlplQGHICM",
        "outputId": "33283204-0bed-4a35-fcd6-9a7639a5e68e"
      },
      "outputs": [
        {
          "name": "stdout",
          "output_type": "stream",
          "text": [
            "[LightGBM] [Info] Auto-choosing col-wise multi-threading, the overhead of testing was 0.017211 seconds.\n",
            "You can set `force_col_wise=true` to remove the overhead.\n",
            "[LightGBM] [Info] Total Bins 110406\n",
            "[LightGBM] [Info] Number of data points in the train set: 3308, number of used features: 433\n",
            "[LightGBM] [Info] Start training from score 0.199956\n"
          ]
        }
      ],
      "source": [
        "import lightgbm as lgb\n",
        "\n",
        "lgb_train = lgb.Dataset(X_train, y_train)\n",
        "lgb_val = lgb.Dataset(X_val, y_val, reference=lgb_train)\n",
        "\n",
        "params = {\n",
        "    'objective': 'regression',\n",
        "    'metric': 'rmse',\n",
        "    'boosting_type': 'gbdt',\n",
        "    'num_leaves': 31,\n",
        "    'learning_rate': 0.05,\n",
        "    'feature_fraction': 0.9,\n",
        "}\n",
        "\n",
        "model_gbm = lgb.train(params, lgb_train, num_boost_round=500, valid_sets=[lgb_val])\n"
      ]
    },
    {
      "cell_type": "code",
      "execution_count": 30,
      "metadata": {
        "colab": {
          "base_uri": "https://localhost:8080/"
        },
        "id": "f_wSdQqYHJui",
        "outputId": "c91be6ac-700e-4054-c6e9-1a4c1f34a527"
      },
      "outputs": [
        {
          "ename": "AttributeError",
          "evalue": "'History' object has no attribute 'predict'",
          "output_type": "error",
          "traceback": [
            "\u001b[1;31m---------------------------------------------------------------------------\u001b[0m",
            "\u001b[1;31mAttributeError\u001b[0m                            Traceback (most recent call last)",
            "\u001b[1;32mc:\\Users\\Gilbert\\Documents\\BCB_Research\\Kcat_Benchmark_ML_Models\\models\\NN_XGboost_colab.ipynb Cell 12\u001b[0m line \u001b[0;36m5\n\u001b[0;32m      <a href='vscode-notebook-cell:/c%3A/Users/Gilbert/Documents/BCB_Research/Kcat_Benchmark_ML_Models/models/NN_XGboost_colab.ipynb#X14sZmlsZQ%3D%3D?line=1'>2</a>\u001b[0m \u001b[39mimport\u001b[39;00m \u001b[39mxgboost\u001b[39;00m \u001b[39mas\u001b[39;00m \u001b[39mxgb\u001b[39;00m\n\u001b[0;32m      <a href='vscode-notebook-cell:/c%3A/Users/Gilbert/Documents/BCB_Research/Kcat_Benchmark_ML_Models/models/NN_XGboost_colab.ipynb#X14sZmlsZQ%3D%3D?line=3'>4</a>\u001b[0m \u001b[39m# Get predictions from both models on the test set\u001b[39;00m\n\u001b[1;32m----> <a href='vscode-notebook-cell:/c%3A/Users/Gilbert/Documents/BCB_Research/Kcat_Benchmark_ML_Models/models/NN_XGboost_colab.ipynb#X14sZmlsZQ%3D%3D?line=4'>5</a>\u001b[0m nn_preds_test \u001b[39m=\u001b[39m model_nn\u001b[39m.\u001b[39;49mpredict(X_test)\n\u001b[0;32m      <a href='vscode-notebook-cell:/c%3A/Users/Gilbert/Documents/BCB_Research/Kcat_Benchmark_ML_Models/models/NN_XGboost_colab.ipynb#X14sZmlsZQ%3D%3D?line=5'>6</a>\u001b[0m gbm_preds_test \u001b[39m=\u001b[39m model_gbm\u001b[39m.\u001b[39mpredict(X_test)\n\u001b[0;32m      <a href='vscode-notebook-cell:/c%3A/Users/Gilbert/Documents/BCB_Research/Kcat_Benchmark_ML_Models/models/NN_XGboost_colab.ipynb#X14sZmlsZQ%3D%3D?line=7'>8</a>\u001b[0m \u001b[39m# Combine predictions to use as features for the meta-model\u001b[39;00m\n",
            "\u001b[1;31mAttributeError\u001b[0m: 'History' object has no attribute 'predict'"
          ]
        }
      ],
      "source": [
        "from sklearn.linear_model import LinearRegression\n",
        "import xgboost as xgb\n",
        "\n",
        "# Get predictions from both models on the test set\n",
        "nn_preds_test = model_nn.predict(X_test)\n",
        "gbm_preds_test = model_gbm.predict(X_test)\n",
        "\n",
        "# Combine predictions to use as features for the meta-model\n",
        "stacked_preds_test = np.column_stack((nn_preds_test, gbm_preds_test))\n",
        "\n",
        "# Train the meta-model on the training set\n",
        "meta_model_xgb = xgb.XGBRegressor(objective='reg:squarederror', n_estimators=100)\n",
        "meta_model_xgb.fit(stacked_preds_test, y_test)\n",
        "\n",
        "# Now, you can use the trained meta-model to make predictions on new data\n",
        "y_val_pred = meta_model_xgb.predict(stacked_preds_test)"
      ]
    },
    {
      "cell_type": "code",
      "execution_count": 20,
      "metadata": {},
      "outputs": [
        {
          "data": {
            "image/png": "[encoded data removed]",
            "text/plain": [
              "<Figure size 640x480 with 1 Axes>"
            ]
          },
          "metadata": {},
          "output_type": "display_data"
        }
      ],
      "source": [
        "import matplotlib.pyplot as plt\n",
        "\n",
        "plt.scatter(y_test, y_val_pred, alpha=0.5)\n",
        "plt.plot([min(y_test), max(y_test)], [min(y_test), max(y_test)], color='red')  # Line for perfect prediction\n",
        "plt.xlabel(\"True Values\")\n",
        "plt.ylabel(\"Predicted Values\")\n",
        "plt.title(\"True vs Predicted Values\")\n",
        "plt.show()"
      ]
    },
    {
      "cell_type": "code",
      "execution_count": 21,
      "metadata": {},
      "outputs": [
        {
          "name": "stdout",
          "output_type": "stream",
          "text": [
            "MSE: 0.036605333561036596\n",
            "RMSE: 0.1913252036743633\n",
            "MAE: 0.08475832340901454\n",
            "R2 Score: 0.985636890687652\n",
            "Pearson Score: 0.9928649327967377\n"
          ]
        }
      ],
      "source": [
        "from sklearn.metrics import mean_squared_error, mean_absolute_error, r2_score\n",
        "\n",
        "mse = mean_squared_error(y_test, y_val_pred)\n",
        "rmse = mean_squared_error(y_test, y_val_pred, squared=False)\n",
        "mae = mean_absolute_error(y_test, y_val_pred)\n",
        "r2 = r2_score(y_test, y_val_pred)\n",
        "result = np.corrcoef(y_test, y_val_pred)[0,1]\n",
        "\n",
        "print(f\"MSE: {mse}\")\n",
        "print(f\"RMSE: {rmse}\")\n",
        "print(f\"MAE: {mae}\")\n",
        "print(f\"R2 Score: {r2}\")\n",
        "print(f\"Pearson Score: {result}\")"
      ]
    },
    {
      "cell_type": "code",
      "execution_count": 19,
      "metadata": {
        "colab": {
          "base_uri": "https://localhost:8080/",
          "height": 472
        },
        "id": "ncE20yDNAgSY",
        "outputId": "16befc33-f731-4943-a728-13075639ac4b"
      },
      "outputs": [
        {
          "ename": "ValueError",
          "evalue": "x and y must be the same size",
          "output_type": "error",
          "traceback": [
            "\u001b[1;31m---------------------------------------------------------------------------\u001b[0m",
            "\u001b[1;31mValueError\u001b[0m                                Traceback (most recent call last)",
            "\u001b[1;32mc:\\Users\\Gilbert\\Documents\\BCB_Research\\Kcat_Benchmark_ML_Models\\models\\NN_XGboost_colab.ipynb Cell 16\u001b[0m line \u001b[0;36m3\n\u001b[0;32m      <a href='vscode-notebook-cell:/c%3A/Users/Gilbert/Documents/BCB_Research/Kcat_Benchmark_ML_Models/models/NN_XGboost_colab.ipynb#X16sZmlsZQ%3D%3D?line=0'>1</a>\u001b[0m \u001b[39mimport\u001b[39;00m \u001b[39mmatplotlib\u001b[39;00m\u001b[39m.\u001b[39;00m\u001b[39mpyplot\u001b[39;00m \u001b[39mas\u001b[39;00m \u001b[39mplt\u001b[39;00m\n\u001b[1;32m----> <a href='vscode-notebook-cell:/c%3A/Users/Gilbert/Documents/BCB_Research/Kcat_Benchmark_ML_Models/models/NN_XGboost_colab.ipynb#X16sZmlsZQ%3D%3D?line=2'>3</a>\u001b[0m plt\u001b[39m.\u001b[39;49mscatter(y_train, y_val_pred, alpha\u001b[39m=\u001b[39;49m\u001b[39m0.5\u001b[39;49m)\n\u001b[0;32m      <a href='vscode-notebook-cell:/c%3A/Users/Gilbert/Documents/BCB_Research/Kcat_Benchmark_ML_Models/models/NN_XGboost_colab.ipynb#X16sZmlsZQ%3D%3D?line=3'>4</a>\u001b[0m plt\u001b[39m.\u001b[39mplot([\u001b[39mmin\u001b[39m(y_train), \u001b[39mmax\u001b[39m(y_train)], [\u001b[39mmin\u001b[39m(y_train), \u001b[39mmax\u001b[39m(y_train)], color\u001b[39m=\u001b[39m\u001b[39m'\u001b[39m\u001b[39mred\u001b[39m\u001b[39m'\u001b[39m)  \u001b[39m# Line for perfect prediction\u001b[39;00m\n\u001b[0;32m      <a href='vscode-notebook-cell:/c%3A/Users/Gilbert/Documents/BCB_Research/Kcat_Benchmark_ML_Models/models/NN_XGboost_colab.ipynb#X16sZmlsZQ%3D%3D?line=4'>5</a>\u001b[0m plt\u001b[39m.\u001b[39mxlabel(\u001b[39m\"\u001b[39m\u001b[39mTrue Values\u001b[39m\u001b[39m\"\u001b[39m)\n",
            "File \u001b[1;32mc:\\Users\\Gilbert\\anaconda3\\envs\\bcb_2\\Lib\\site-packages\\matplotlib\\pyplot.py:2862\u001b[0m, in \u001b[0;36mscatter\u001b[1;34m(x, y, s, c, marker, cmap, norm, vmin, vmax, alpha, linewidths, edgecolors, plotnonfinite, data, **kwargs)\u001b[0m\n\u001b[0;32m   2857\u001b[0m \u001b[39m@_copy_docstring_and_deprecators\u001b[39m(Axes\u001b[39m.\u001b[39mscatter)\n\u001b[0;32m   2858\u001b[0m \u001b[39mdef\u001b[39;00m \u001b[39mscatter\u001b[39m(\n\u001b[0;32m   2859\u001b[0m         x, y, s\u001b[39m=\u001b[39m\u001b[39mNone\u001b[39;00m, c\u001b[39m=\u001b[39m\u001b[39mNone\u001b[39;00m, marker\u001b[39m=\u001b[39m\u001b[39mNone\u001b[39;00m, cmap\u001b[39m=\u001b[39m\u001b[39mNone\u001b[39;00m, norm\u001b[39m=\u001b[39m\u001b[39mNone\u001b[39;00m,\n\u001b[0;32m   2860\u001b[0m         vmin\u001b[39m=\u001b[39m\u001b[39mNone\u001b[39;00m, vmax\u001b[39m=\u001b[39m\u001b[39mNone\u001b[39;00m, alpha\u001b[39m=\u001b[39m\u001b[39mNone\u001b[39;00m, linewidths\u001b[39m=\u001b[39m\u001b[39mNone\u001b[39;00m, \u001b[39m*\u001b[39m,\n\u001b[0;32m   2861\u001b[0m         edgecolors\u001b[39m=\u001b[39m\u001b[39mNone\u001b[39;00m, plotnonfinite\u001b[39m=\u001b[39m\u001b[39mFalse\u001b[39;00m, data\u001b[39m=\u001b[39m\u001b[39mNone\u001b[39;00m, \u001b[39m*\u001b[39m\u001b[39m*\u001b[39mkwargs):\n\u001b[1;32m-> 2862\u001b[0m     __ret \u001b[39m=\u001b[39m gca()\u001b[39m.\u001b[39;49mscatter(\n\u001b[0;32m   2863\u001b[0m         x, y, s\u001b[39m=\u001b[39;49ms, c\u001b[39m=\u001b[39;49mc, marker\u001b[39m=\u001b[39;49mmarker, cmap\u001b[39m=\u001b[39;49mcmap, norm\u001b[39m=\u001b[39;49mnorm,\n\u001b[0;32m   2864\u001b[0m         vmin\u001b[39m=\u001b[39;49mvmin, vmax\u001b[39m=\u001b[39;49mvmax, alpha\u001b[39m=\u001b[39;49malpha, linewidths\u001b[39m=\u001b[39;49mlinewidths,\n\u001b[0;32m   2865\u001b[0m         edgecolors\u001b[39m=\u001b[39;49medgecolors, plotnonfinite\u001b[39m=\u001b[39;49mplotnonfinite,\n\u001b[0;32m   2866\u001b[0m         \u001b[39m*\u001b[39;49m\u001b[39m*\u001b[39;49m({\u001b[39m\"\u001b[39;49m\u001b[39mdata\u001b[39;49m\u001b[39m\"\u001b[39;49m: data} \u001b[39mif\u001b[39;49;00m data \u001b[39mis\u001b[39;49;00m \u001b[39mnot\u001b[39;49;00m \u001b[39mNone\u001b[39;49;00m \u001b[39melse\u001b[39;49;00m {}), \u001b[39m*\u001b[39;49m\u001b[39m*\u001b[39;49mkwargs)\n\u001b[0;32m   2867\u001b[0m     sci(__ret)\n\u001b[0;32m   2868\u001b[0m     \u001b[39mreturn\u001b[39;00m __ret\n",
            "File \u001b[1;32mc:\\Users\\Gilbert\\anaconda3\\envs\\bcb_2\\Lib\\site-packages\\matplotlib\\__init__.py:1459\u001b[0m, in \u001b[0;36m_preprocess_data.<locals>.inner\u001b[1;34m(ax, data, *args, **kwargs)\u001b[0m\n\u001b[0;32m   1456\u001b[0m \u001b[39m@functools\u001b[39m\u001b[39m.\u001b[39mwraps(func)\n\u001b[0;32m   1457\u001b[0m \u001b[39mdef\u001b[39;00m \u001b[39minner\u001b[39m(ax, \u001b[39m*\u001b[39margs, data\u001b[39m=\u001b[39m\u001b[39mNone\u001b[39;00m, \u001b[39m*\u001b[39m\u001b[39m*\u001b[39mkwargs):\n\u001b[0;32m   1458\u001b[0m     \u001b[39mif\u001b[39;00m data \u001b[39mis\u001b[39;00m \u001b[39mNone\u001b[39;00m:\n\u001b[1;32m-> 1459\u001b[0m         \u001b[39mreturn\u001b[39;00m func(ax, \u001b[39m*\u001b[39;49m\u001b[39mmap\u001b[39;49m(sanitize_sequence, args), \u001b[39m*\u001b[39;49m\u001b[39m*\u001b[39;49mkwargs)\n\u001b[0;32m   1461\u001b[0m     bound \u001b[39m=\u001b[39m new_sig\u001b[39m.\u001b[39mbind(ax, \u001b[39m*\u001b[39margs, \u001b[39m*\u001b[39m\u001b[39m*\u001b[39mkwargs)\n\u001b[0;32m   1462\u001b[0m     auto_label \u001b[39m=\u001b[39m (bound\u001b[39m.\u001b[39marguments\u001b[39m.\u001b[39mget(label_namer)\n\u001b[0;32m   1463\u001b[0m                   \u001b[39mor\u001b[39;00m bound\u001b[39m.\u001b[39mkwargs\u001b[39m.\u001b[39mget(label_namer))\n",
            "File \u001b[1;32mc:\\Users\\Gilbert\\anaconda3\\envs\\bcb_2\\Lib\\site-packages\\matplotlib\\axes\\_axes.py:4578\u001b[0m, in \u001b[0;36mAxes.scatter\u001b[1;34m(self, x, y, s, c, marker, cmap, norm, vmin, vmax, alpha, linewidths, edgecolors, plotnonfinite, **kwargs)\u001b[0m\n\u001b[0;32m   4576\u001b[0m y \u001b[39m=\u001b[39m np\u001b[39m.\u001b[39mma\u001b[39m.\u001b[39mravel(y)\n\u001b[0;32m   4577\u001b[0m \u001b[39mif\u001b[39;00m x\u001b[39m.\u001b[39msize \u001b[39m!=\u001b[39m y\u001b[39m.\u001b[39msize:\n\u001b[1;32m-> 4578\u001b[0m     \u001b[39mraise\u001b[39;00m \u001b[39mValueError\u001b[39;00m(\u001b[39m\"\u001b[39m\u001b[39mx and y must be the same size\u001b[39m\u001b[39m\"\u001b[39m)\n\u001b[0;32m   4580\u001b[0m \u001b[39mif\u001b[39;00m s \u001b[39mis\u001b[39;00m \u001b[39mNone\u001b[39;00m:\n\u001b[0;32m   4581\u001b[0m     s \u001b[39m=\u001b[39m (\u001b[39m20\u001b[39m \u001b[39mif\u001b[39;00m mpl\u001b[39m.\u001b[39mrcParams[\u001b[39m'\u001b[39m\u001b[39m_internal.classic_mode\u001b[39m\u001b[39m'\u001b[39m] \u001b[39melse\u001b[39;00m\n\u001b[0;32m   4582\u001b[0m          mpl\u001b[39m.\u001b[39mrcParams[\u001b[39m'\u001b[39m\u001b[39mlines.markersize\u001b[39m\u001b[39m'\u001b[39m] \u001b[39m*\u001b[39m\u001b[39m*\u001b[39m \u001b[39m2.0\u001b[39m)\n",
            "\u001b[1;31mValueError\u001b[0m: x and y must be the same size"
          ]
        },
        {
          "data": {
            "image/png": "[encoded data removed]",
            "text/plain": [
              "<Figure size 640x480 with 1 Axes>"
            ]
          },
          "metadata": {},
          "output_type": "display_data"
        }
      ],
      "source": [
        "import matplotlib.pyplot as plt\n",
        "\n",
        "plt.scatter(y_train, y_train_pred, alpha=0.5)\n",
        "plt.plot([min(y_train), max(y_train)], [min(y_train), max(y_train)], color='red')  # Line for perfect prediction\n",
        "plt.xlabel(\"True Values\")\n",
        "plt.ylabel(\"Predicted Values\")\n",
        "plt.title(\"True vs Predicted Values\")\n",
        "plt.show()"
      ]
    },
    {
      "cell_type": "code",
      "execution_count": null,
      "metadata": {},
      "outputs": [],
      "source": []
    },
    {
      "cell_type": "code",
      "execution_count": 19,
      "metadata": {
        "colab": {
          "base_uri": "https://localhost:8080/"
        },
        "id": "cVpV84huAzt8",
        "outputId": "90171ad4-dbc0-4916-dd14-1641dd89c77c"
      },
      "outputs": [
        {
          "ename": "ValueError",
          "evalue": "Found input variables with inconsistent numbers of samples: [414, 828]",
          "output_type": "error",
          "traceback": [
            "\u001b[1;31m---------------------------------------------------------------------------\u001b[0m",
            "\u001b[1;31mValueError\u001b[0m                                Traceback (most recent call last)",
            "\u001b[1;32mc:\\Users\\Gilbert\\Documents\\BCB_Research\\Kcat_Benchmark_ML_Models\\models\\NN_XGboost_colab.ipynb Cell 16\u001b[0m line \u001b[0;36m3\n\u001b[0;32m      <a href='vscode-notebook-cell:/c%3A/Users/Gilbert/Documents/BCB_Research/Kcat_Benchmark_ML_Models/models/NN_XGboost_colab.ipynb#X21sZmlsZQ%3D%3D?line=0'>1</a>\u001b[0m \u001b[39mfrom\u001b[39;00m \u001b[39msklearn\u001b[39;00m\u001b[39m.\u001b[39;00m\u001b[39mmetrics\u001b[39;00m \u001b[39mimport\u001b[39;00m mean_squared_error, mean_absolute_error, r2_score\n\u001b[1;32m----> <a href='vscode-notebook-cell:/c%3A/Users/Gilbert/Documents/BCB_Research/Kcat_Benchmark_ML_Models/models/NN_XGboost_colab.ipynb#X21sZmlsZQ%3D%3D?line=2'>3</a>\u001b[0m mse \u001b[39m=\u001b[39m mean_squared_error(y_test, y_val_pred)\n\u001b[0;32m      <a href='vscode-notebook-cell:/c%3A/Users/Gilbert/Documents/BCB_Research/Kcat_Benchmark_ML_Models/models/NN_XGboost_colab.ipynb#X21sZmlsZQ%3D%3D?line=3'>4</a>\u001b[0m rmse \u001b[39m=\u001b[39m mean_squared_error(y_test, y_val_pred, squared\u001b[39m=\u001b[39m\u001b[39mFalse\u001b[39;00m)\n\u001b[0;32m      <a href='vscode-notebook-cell:/c%3A/Users/Gilbert/Documents/BCB_Research/Kcat_Benchmark_ML_Models/models/NN_XGboost_colab.ipynb#X21sZmlsZQ%3D%3D?line=4'>5</a>\u001b[0m mae \u001b[39m=\u001b[39m mean_absolute_error(y_test, y_val_pred)\n",
            "File \u001b[1;32mc:\\Users\\Gilbert\\anaconda3\\envs\\bcb_2\\Lib\\site-packages\\sklearn\\utils\\_param_validation.py:211\u001b[0m, in \u001b[0;36mvalidate_params.<locals>.decorator.<locals>.wrapper\u001b[1;34m(*args, **kwargs)\u001b[0m\n\u001b[0;32m    205\u001b[0m \u001b[39mtry\u001b[39;00m:\n\u001b[0;32m    206\u001b[0m     \u001b[39mwith\u001b[39;00m config_context(\n\u001b[0;32m    207\u001b[0m         skip_parameter_validation\u001b[39m=\u001b[39m(\n\u001b[0;32m    208\u001b[0m             prefer_skip_nested_validation \u001b[39mor\u001b[39;00m global_skip_validation\n\u001b[0;32m    209\u001b[0m         )\n\u001b[0;32m    210\u001b[0m     ):\n\u001b[1;32m--> 211\u001b[0m         \u001b[39mreturn\u001b[39;00m func(\u001b[39m*\u001b[39;49margs, \u001b[39m*\u001b[39;49m\u001b[39m*\u001b[39;49mkwargs)\n\u001b[0;32m    212\u001b[0m \u001b[39mexcept\u001b[39;00m InvalidParameterError \u001b[39mas\u001b[39;00m e:\n\u001b[0;32m    213\u001b[0m     \u001b[39m# When the function is just a wrapper around an estimator, we allow\u001b[39;00m\n\u001b[0;32m    214\u001b[0m     \u001b[39m# the function to delegate validation to the estimator, but we replace\u001b[39;00m\n\u001b[0;32m    215\u001b[0m     \u001b[39m# the name of the estimator by the name of the function in the error\u001b[39;00m\n\u001b[0;32m    216\u001b[0m     \u001b[39m# message to avoid confusion.\u001b[39;00m\n\u001b[0;32m    217\u001b[0m     msg \u001b[39m=\u001b[39m re\u001b[39m.\u001b[39msub(\n\u001b[0;32m    218\u001b[0m         \u001b[39mr\u001b[39m\u001b[39m\"\u001b[39m\u001b[39mparameter of \u001b[39m\u001b[39m\\\u001b[39m\u001b[39mw+ must be\u001b[39m\u001b[39m\"\u001b[39m,\n\u001b[0;32m    219\u001b[0m         \u001b[39mf\u001b[39m\u001b[39m\"\u001b[39m\u001b[39mparameter of \u001b[39m\u001b[39m{\u001b[39;00mfunc\u001b[39m.\u001b[39m\u001b[39m__qualname__\u001b[39m\u001b[39m}\u001b[39;00m\u001b[39m must be\u001b[39m\u001b[39m\"\u001b[39m,\n\u001b[0;32m    220\u001b[0m         \u001b[39mstr\u001b[39m(e),\n\u001b[0;32m    221\u001b[0m     )\n",
            "File \u001b[1;32mc:\\Users\\Gilbert\\anaconda3\\envs\\bcb_2\\Lib\\site-packages\\sklearn\\metrics\\_regression.py:474\u001b[0m, in \u001b[0;36mmean_squared_error\u001b[1;34m(y_true, y_pred, sample_weight, multioutput, squared)\u001b[0m\n\u001b[0;32m    404\u001b[0m \u001b[39m@validate_params\u001b[39m(\n\u001b[0;32m    405\u001b[0m     {\n\u001b[0;32m    406\u001b[0m         \u001b[39m\"\u001b[39m\u001b[39my_true\u001b[39m\u001b[39m\"\u001b[39m: [\u001b[39m\"\u001b[39m\u001b[39marray-like\u001b[39m\u001b[39m\"\u001b[39m],\n\u001b[1;32m   (...)\u001b[0m\n\u001b[0;32m    415\u001b[0m     y_true, y_pred, \u001b[39m*\u001b[39m, sample_weight\u001b[39m=\u001b[39m\u001b[39mNone\u001b[39;00m, multioutput\u001b[39m=\u001b[39m\u001b[39m\"\u001b[39m\u001b[39muniform_average\u001b[39m\u001b[39m\"\u001b[39m, squared\u001b[39m=\u001b[39m\u001b[39mTrue\u001b[39;00m\n\u001b[0;32m    416\u001b[0m ):\n\u001b[0;32m    417\u001b[0m \u001b[39m    \u001b[39m\u001b[39m\"\"\"Mean squared error regression loss.\u001b[39;00m\n\u001b[0;32m    418\u001b[0m \n\u001b[0;32m    419\u001b[0m \u001b[39m    Read more in the :ref:`User Guide <mean_squared_error>`.\u001b[39;00m\n\u001b[1;32m   (...)\u001b[0m\n\u001b[0;32m    472\u001b[0m \u001b[39m    0.825...\u001b[39;00m\n\u001b[0;32m    473\u001b[0m \u001b[39m    \"\"\"\u001b[39;00m\n\u001b[1;32m--> 474\u001b[0m     y_type, y_true, y_pred, multioutput \u001b[39m=\u001b[39m _check_reg_targets(\n\u001b[0;32m    475\u001b[0m         y_true, y_pred, multioutput\n\u001b[0;32m    476\u001b[0m     )\n\u001b[0;32m    477\u001b[0m     check_consistent_length(y_true, y_pred, sample_weight)\n\u001b[0;32m    478\u001b[0m     output_errors \u001b[39m=\u001b[39m np\u001b[39m.\u001b[39maverage((y_true \u001b[39m-\u001b[39m y_pred) \u001b[39m*\u001b[39m\u001b[39m*\u001b[39m \u001b[39m2\u001b[39m, axis\u001b[39m=\u001b[39m\u001b[39m0\u001b[39m, weights\u001b[39m=\u001b[39msample_weight)\n",
            "File \u001b[1;32mc:\\Users\\Gilbert\\anaconda3\\envs\\bcb_2\\Lib\\site-packages\\sklearn\\metrics\\_regression.py:99\u001b[0m, in \u001b[0;36m_check_reg_targets\u001b[1;34m(y_true, y_pred, multioutput, dtype)\u001b[0m\n\u001b[0;32m     65\u001b[0m \u001b[39mdef\u001b[39;00m \u001b[39m_check_reg_targets\u001b[39m(y_true, y_pred, multioutput, dtype\u001b[39m=\u001b[39m\u001b[39m\"\u001b[39m\u001b[39mnumeric\u001b[39m\u001b[39m\"\u001b[39m):\n\u001b[0;32m     66\u001b[0m \u001b[39m    \u001b[39m\u001b[39m\"\"\"Check that y_true and y_pred belong to the same regression task.\u001b[39;00m\n\u001b[0;32m     67\u001b[0m \n\u001b[0;32m     68\u001b[0m \u001b[39m    Parameters\u001b[39;00m\n\u001b[1;32m   (...)\u001b[0m\n\u001b[0;32m     97\u001b[0m \u001b[39m        correct keyword.\u001b[39;00m\n\u001b[0;32m     98\u001b[0m \u001b[39m    \"\"\"\u001b[39;00m\n\u001b[1;32m---> 99\u001b[0m     check_consistent_length(y_true, y_pred)\n\u001b[0;32m    100\u001b[0m     y_true \u001b[39m=\u001b[39m check_array(y_true, ensure_2d\u001b[39m=\u001b[39m\u001b[39mFalse\u001b[39;00m, dtype\u001b[39m=\u001b[39mdtype)\n\u001b[0;32m    101\u001b[0m     y_pred \u001b[39m=\u001b[39m check_array(y_pred, ensure_2d\u001b[39m=\u001b[39m\u001b[39mFalse\u001b[39;00m, dtype\u001b[39m=\u001b[39mdtype)\n",
            "File \u001b[1;32mc:\\Users\\Gilbert\\anaconda3\\envs\\bcb_2\\Lib\\site-packages\\sklearn\\utils\\validation.py:409\u001b[0m, in \u001b[0;36mcheck_consistent_length\u001b[1;34m(*arrays)\u001b[0m\n\u001b[0;32m    407\u001b[0m uniques \u001b[39m=\u001b[39m np\u001b[39m.\u001b[39munique(lengths)\n\u001b[0;32m    408\u001b[0m \u001b[39mif\u001b[39;00m \u001b[39mlen\u001b[39m(uniques) \u001b[39m>\u001b[39m \u001b[39m1\u001b[39m:\n\u001b[1;32m--> 409\u001b[0m     \u001b[39mraise\u001b[39;00m \u001b[39mValueError\u001b[39;00m(\n\u001b[0;32m    410\u001b[0m         \u001b[39m\"\u001b[39m\u001b[39mFound input variables with inconsistent numbers of samples: \u001b[39m\u001b[39m%r\u001b[39;00m\u001b[39m\"\u001b[39m\n\u001b[0;32m    411\u001b[0m         \u001b[39m%\u001b[39m [\u001b[39mint\u001b[39m(l) \u001b[39mfor\u001b[39;00m l \u001b[39min\u001b[39;00m lengths]\n\u001b[0;32m    412\u001b[0m     )\n",
            "\u001b[1;31mValueError\u001b[0m: Found input variables with inconsistent numbers of samples: [414, 828]"
          ]
        }
      ],
      "source": [
        "\n"
      ]
    },
    {
      "cell_type": "code",
      "execution_count": 11,
      "metadata": {
        "colab": {
          "base_uri": "https://localhost:8080/"
        },
        "id": "F_QoQWTmFm9U",
        "outputId": "01541166-c3df-4475-cd7e-7581ca280e84"
      },
      "outputs": [
        {
          "name": "stdout",
          "output_type": "stream",
          "text": [
            "MSE: 1.2107849265711648\n",
            "RMSE: 1.1003567269622905\n",
            "MAE: 0.8000336992580062\n",
            "R2 Score: 0.5249152360519453\n",
            "Pearson Score: 0.742560718937366\n"
          ]
        }
      ],
      "source": [
        "from sklearn.metrics import mean_squared_error, mean_absolute_error, r2_score\n",
        "\n",
        "mse = mean_squared_error(y_test, y_test_pred)\n",
        "rmse = mean_squared_error(y_test, y_test_pred, squared=False)\n",
        "mae = mean_absolute_error(y_test, y_test_pred)\n",
        "r2 = r2_score(y_test, y_test_pred)\n",
        "result = np.corrcoef(y_test, y_test_pred)[0,1]\n",
        "\n",
        "print(f\"MSE: {mse}\")\n",
        "print(f\"RMSE: {rmse}\")\n",
        "print(f\"MAE: {mae}\")\n",
        "print(f\"R2 Score: {r2}\")\n",
        "print(f\"Pearson Score: {result}\")"
      ]
    },
    {
      "cell_type": "code",
      "execution_count": null,
      "metadata": {
        "colab": {
          "base_uri": "https://localhost:8080/"
        },
        "id": "iezbRu7oMk6v",
        "outputId": "459d1972-cc87-4bfa-f8a1-e751a1e27b66"
      },
      "outputs": [],
      "source": []
    },
    {
      "cell_type": "code",
      "execution_count": null,
      "metadata": {},
      "outputs": [],
      "source": []
    }
  ],
  "metadata": {
    "colab": {
      "provenance": []
    },
    "kernelspec": {
      "display_name": "Python 3",
      "name": "python3"
    },
    "language_info": {
      "codemirror_mode": {
        "name": "ipython",
        "version": 3
      },
      "file_extension": ".py",
      "mimetype": "text/x-python",
      "name": "python",
      "nbconvert_exporter": "python",
      "pygments_lexer": "ipython3",
      "version": "3.11.5"
    }
  },
  "nbformat": 4,
  "nbformat_minor": 0
}
